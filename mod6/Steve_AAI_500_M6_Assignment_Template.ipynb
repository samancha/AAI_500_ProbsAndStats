{
 "cells": [
  {
   "cell_type": "markdown",
   "metadata": {},
   "source": [
    "# Assignment 6.1\n",
    "\n",
    "Name: Steve Amancha   \n",
    "Date: June 13 2023  "
   ]
  },
  {
   "cell_type": "markdown",
   "metadata": {},
   "source": [
    "For this assignment, you will refer to the textbook to solve the practice exercises. **Use Python to answer any coding problems (not R, even if indicated in your textbook).** Use Jupyter Notebook, Google Colab, or a similar software program to complete your assignment. Submit the assignment as a PDF file. Always label your axes and provide titles for any graphs generated on this assignment. Round all quantitative answers to 2 decimal places."
   ]
  },
  {
   "cell_type": "markdown",
   "metadata": {},
   "source": [
    "## Problem 6.1."
   ]
  },
  {
   "cell_type": "markdown",
   "metadata": {},
   "source": [
    "For the Scottish hill `Races` data, a linear model can predict men’s record times from women’s record times.  \n",
    "http://stat4ds.rwth-aachen.de/data/ScotsRaces.dat\n"
   ]
  },
  {
   "cell_type": "markdown",
   "metadata": {},
   "source": [
    "(a)  Show the scatterplot and report the prediction equation. Predict the men’s record time for the Highland Fling, for which timeW = 490.05 minutes.\n"
   ]
  },
  {
   "cell_type": "markdown",
   "metadata": {},
   "source": [
    "Prediction equation: Men's Record Time = 4.06 + 1.14 * Women's Record Time   \n",
    "Predicted men's record time for the Highland Fling: 562.12 minutes  "
   ]
  },
  {
   "cell_type": "code",
   "execution_count": 1,
   "metadata": {
    "tags": []
   },
   "outputs": [],
   "source": [
    "import scipy.stats as stats\n",
    "import pandas as pd\n",
    "import numpy as np\n",
    "import seaborn as sns\n",
    "import matplotlib.pyplot as plt\n",
    "import statsmodels.api as sm\n",
    "from statsmodels.stats.proportion import proportions_ztest\n",
    "from sklearn.linear_model import LinearRegression\n",
    "from sklearn.model_selection import train_test_split"
   ]
  },
  {
   "cell_type": "code",
   "execution_count": 127,
   "metadata": {
    "tags": []
   },
   "outputs": [
    {
     "data": {
      "image/png": "[encoded data removed]",
      "text/plain": [
       "<Figure size 500x200 with 1 Axes>"
      ]
     },
     "metadata": {},
     "output_type": "display_data"
    },
    {
     "name": "stdout",
     "output_type": "stream",
     "text": [
      "Prediction equation: Men's Record Time = -2.83 + 0.87 * Women's Record Time\n",
      "Predicted men's record time for the Highland Fling: 423.94 minutes\n"
     ]
    }
   ],
   "source": [
    "# Givens and reading in data\n",
    "timeW = 490.05\n",
    "data_url = 'http://stat4ds.rwth-aachen.de/data/ScotsRaces.dat'\n",
    "data = pd.read_csv(data_url, delim_whitespace=True)\n",
    "df = pd.DataFrame(data)\n",
    "\n",
    "# creating scatterplot\n",
    "m, b = np.polyfit(df['timeM'], df['timeW'], 1)\n",
    "fig, ax1 = plt.subplots(figsize=(5,2))\n",
    "plt.scatter(df['timeM'], df['timeW'])\n",
    "plt.xlabel(\"Men's Record Time\")\n",
    "plt.ylabel(\"Women's Record Time\")\n",
    "plt.title(\"Scatterplot of Men's vs. Women's Record Times\")\n",
    "# create best-fit line based on slope-intercept form\n",
    "plt.plot(df['timeM'], m*df['timeM']+b, color = 'red')\n",
    "plt.show()\n",
    "\n",
    "# performing linear regression model with predictor \n",
    "X = sm.add_constant(df['timeW'])\n",
    "model = sm.OLS(df['timeM'], X)\n",
    "results = model.fit()\n",
    "\n",
    "# Report the prediction equation\n",
    "intercept = results.params[0]\n",
    "slope = results.params[1]\n",
    "print(\"Prediction equation: Men's Record Time = {:.2f} + {:.2f} * Women's Record Time\".format(intercept, slope))\n",
    "\n",
    "# Predict the men's record time for the Highland Fling with timeW = 490.05 minutes\n",
    "predicted_timeM = intercept + slope * timeW\n",
    "print(\"Predicted men's record time for the Highland Fling: {:.2f} minutes\".format(predicted_timeM))"
   ]
  },
  {
   "cell_type": "markdown",
   "metadata": {},
   "source": [
    "(b) Find and interpret the correlation."
   ]
  },
  {
   "cell_type": "markdown",
   "metadata": {},
   "source": [
    "The strongest correlation observed is that between distance and timeW. Distance could be a more critical factor for determining timeW compared to climb."
   ]
  },
  {
   "cell_type": "code",
   "execution_count": 14,
   "metadata": {},
   "outputs": [
    {
     "data": {
      "text/html": [
       "<div>\n",
       "<style scoped>\n",
       "    .dataframe tbody tr th:only-of-type {\n",
       "        vertical-align: middle;\n",
       "    }\n",
       "\n",
       "    .dataframe tbody tr th {\n",
       "        vertical-align: top;\n",
       "    }\n",
       "\n",
       "    .dataframe thead th {\n",
       "        text-align: right;\n",
       "    }\n",
       "</style>\n",
       "<table border=\"1\" class=\"dataframe\">\n",
       "  <thead>\n",
       "    <tr style=\"text-align: right;\">\n",
       "      <th></th>\n",
       "      <th>distance</th>\n",
       "      <th>climb</th>\n",
       "      <th>timeW</th>\n",
       "    </tr>\n",
       "  </thead>\n",
       "  <tbody>\n",
       "    <tr>\n",
       "      <th>distance</th>\n",
       "      <td>1.000000</td>\n",
       "      <td>0.514471</td>\n",
       "      <td>0.955549</td>\n",
       "    </tr>\n",
       "    <tr>\n",
       "      <th>climb</th>\n",
       "      <td>0.514471</td>\n",
       "      <td>1.000000</td>\n",
       "      <td>0.685292</td>\n",
       "    </tr>\n",
       "    <tr>\n",
       "      <th>timeW</th>\n",
       "      <td>0.955549</td>\n",
       "      <td>0.685292</td>\n",
       "      <td>1.000000</td>\n",
       "    </tr>\n",
       "  </tbody>\n",
       "</table>\n",
       "</div>"
      ],
      "text/plain": [
       "          distance     climb     timeW\n",
       "distance  1.000000  0.514471  0.955549\n",
       "climb     0.514471  1.000000  0.685292\n",
       "timeW     0.955549  0.685292  1.000000"
      ]
     },
     "metadata": {},
     "output_type": "display_data"
    }
   ],
   "source": [
    "# splitting table into only \n",
    "df2 = df.drop(['timeM','race'], axis=1)\n",
    "corr = df2.corr()\n",
    "display(corr)"
   ]
  },
  {
   "cell_type": "markdown",
   "metadata": {},
   "source": [
    "(c) We could impose the natural constraint that when timeW = 0, then timeM = 0. Fit the model $E(Y_i)=\\beta x_i.$ Interpret the estimated slope."
   ]
  },
  {
   "cell_type": "markdown",
   "metadata": {},
   "source": [
    "Slope = 0.85  \n",
    "Men's record time is predicted to increase by 0.85 x womens time.  "
   ]
  },
  {
   "cell_type": "code",
   "execution_count": 17,
   "metadata": {},
   "outputs": [
    {
     "name": "stdout",
     "output_type": "stream",
     "text": [
      "                                 OLS Regression Results                                \n",
      "=======================================================================================\n",
      "Dep. Variable:                  timeM   R-squared (uncentered):                   0.997\n",
      "Model:                            OLS   Adj. R-squared (uncentered):              0.997\n",
      "Method:                 Least Squares   F-statistic:                          2.107e+04\n",
      "Date:                Sat, 17 Jun 2023   Prob (F-statistic):                    1.86e-85\n",
      "Time:                        17:14:09   Log-Likelihood:                         -217.77\n",
      "No. Observations:                  68   AIC:                                      437.5\n",
      "Df Residuals:                      67   BIC:                                      439.8\n",
      "Df Model:                           1                                                  \n",
      "Covariance Type:            nonrobust                                                  \n",
      "==============================================================================\n",
      "                 coef    std err          t      P>|t|      [0.025      0.975]\n",
      "------------------------------------------------------------------------------\n",
      "timeW          0.8523      0.006    145.164      0.000       0.841       0.864\n",
      "==============================================================================\n",
      "Omnibus:                       16.356   Durbin-Watson:                   2.075\n",
      "Prob(Omnibus):                  0.000   Jarque-Bera (JB):               84.536\n",
      "Skew:                          -0.053   Prob(JB):                     4.40e-19\n",
      "Kurtosis:                       8.461   Cond. No.                         1.00\n",
      "==============================================================================\n",
      "\n",
      "Notes:\n",
      "[1] R² is computed without centering (uncentered) since the model does not contain a constant.\n",
      "[2] Standard Errors assume that the covariance matrix of the errors is correctly specified.\n"
     ]
    }
   ],
   "source": [
    "x = df['timeW']\n",
    "y = df['timeM']\n",
    "\n",
    "# Fit the model\n",
    "model = sm.OLS(y, x)\n",
    "results = model.fit()\n",
    "\n",
    "# Print out the statistics\n",
    "print(results.summary())"
   ]
  },
  {
   "cell_type": "markdown",
   "metadata": {},
   "source": [
    "## Problem 6.2."
   ]
  },
  {
   "cell_type": "markdown",
   "metadata": {},
   "source": [
    "For advanced industrialized nations, the Firearms data file at the text website shows annual homicide rates (per million population) and the number of firearms (per 100 people), with data taken from Wikipedia and [smallarmssurvey.org](smallarmssurvey.org)."
   ]
  },
  {
   "cell_type": "markdown",
   "metadata": {},
   "source": [
    "(a) Construct a scatterplot and highlight any observations that fall apart from the general trend."
   ]
  },
  {
   "cell_type": "markdown",
   "metadata": {},
   "source": [
    "One observation is that there is an outlier nation with a data point where there was a higher correlation of guns to deaths. The reason the best fit line doesn't fit is because their is not a direct correlation and there is a even scatterplot without the outlier. \n"
   ]
  },
  {
   "cell_type": "code",
   "execution_count": 128,
   "metadata": {
    "tags": []
   },
   "outputs": [
    {
     "data": {
      "image/png": "[encoded data removed]",
      "text/plain": [
       "<Figure size 500x200 with 1 Axes>"
      ]
     },
     "metadata": {},
     "output_type": "display_data"
    }
   ],
   "source": [
    "# Pulling in data for data frame\n",
    "data_url = 'http://stat4ds.rwth-aachen.de/data/Firearms.dat'\n",
    "data = pd.read_csv(data_url, delim_whitespace=True)\n",
    "df = pd.DataFrame(data)\n",
    "df1 = df.drop('Nation', axis=1)\n",
    "# creating scatterplot\n",
    "\n",
    "fig, ax = plt.subplots(figsize=(5,2))\n",
    "plt.scatter(df['deaths'], df['firearms'])\n",
    "plt.xlabel(\"Deaths\")\n",
    "plt.ylabel(\"Firearms\")\n",
    "plt.title(\"Firarms vs. Deaths\")\n",
    "plt.show()"
   ]
  },
  {
   "cell_type": "markdown",
   "metadata": {},
   "source": [
    "(b) Find the correlation with and without the outlying observation. Why is it so different in the two cases?"
   ]
  },
  {
   "cell_type": "markdown",
   "metadata": {},
   "source": [
    "When the outlier is present, it suggests that as the number of firearms increases, the number of deaths tends to increase as well. When the outlier is removed, however, the correlation becomes slightly negative, suggesting that an increase in firearms is slightly associated with a decrease in deaths."
   ]
  },
  {
   "cell_type": "code",
   "execution_count": 125,
   "metadata": {},
   "outputs": [
    {
     "data": {
      "text/plain": [
       "'With the outlying observation: '"
      ]
     },
     "metadata": {},
     "output_type": "display_data"
    },
    {
     "data": {
      "text/html": [
       "<div>\n",
       "<style scoped>\n",
       "    .dataframe tbody tr th:only-of-type {\n",
       "        vertical-align: middle;\n",
       "    }\n",
       "\n",
       "    .dataframe tbody tr th {\n",
       "        vertical-align: top;\n",
       "    }\n",
       "\n",
       "    .dataframe thead th {\n",
       "        text-align: right;\n",
       "    }\n",
       "</style>\n",
       "<table border=\"1\" class=\"dataframe\">\n",
       "  <thead>\n",
       "    <tr style=\"text-align: right;\">\n",
       "      <th></th>\n",
       "      <th>deaths</th>\n",
       "      <th>firearms</th>\n",
       "    </tr>\n",
       "  </thead>\n",
       "  <tbody>\n",
       "    <tr>\n",
       "      <th>deaths</th>\n",
       "      <td>1.000000</td>\n",
       "      <td>0.634352</td>\n",
       "    </tr>\n",
       "    <tr>\n",
       "      <th>firearms</th>\n",
       "      <td>0.634352</td>\n",
       "      <td>1.000000</td>\n",
       "    </tr>\n",
       "  </tbody>\n",
       "</table>\n",
       "</div>"
      ],
      "text/plain": [
       "            deaths  firearms\n",
       "deaths    1.000000  0.634352\n",
       "firearms  0.634352  1.000000"
      ]
     },
     "metadata": {},
     "output_type": "display_data"
    },
    {
     "data": {
      "text/plain": [
       "'Without the outlier: '"
      ]
     },
     "metadata": {},
     "output_type": "display_data"
    },
    {
     "data": {
      "text/html": [
       "<div>\n",
       "<style scoped>\n",
       "    .dataframe tbody tr th:only-of-type {\n",
       "        vertical-align: middle;\n",
       "    }\n",
       "\n",
       "    .dataframe tbody tr th {\n",
       "        vertical-align: top;\n",
       "    }\n",
       "\n",
       "    .dataframe thead th {\n",
       "        text-align: right;\n",
       "    }\n",
       "</style>\n",
       "<table border=\"1\" class=\"dataframe\">\n",
       "  <thead>\n",
       "    <tr style=\"text-align: right;\">\n",
       "      <th></th>\n",
       "      <th>deaths</th>\n",
       "      <th>firearms</th>\n",
       "    </tr>\n",
       "  </thead>\n",
       "  <tbody>\n",
       "    <tr>\n",
       "      <th>deaths</th>\n",
       "      <td>1.000000</td>\n",
       "      <td>-0.175088</td>\n",
       "    </tr>\n",
       "    <tr>\n",
       "      <th>firearms</th>\n",
       "      <td>-0.175088</td>\n",
       "      <td>1.000000</td>\n",
       "    </tr>\n",
       "  </tbody>\n",
       "</table>\n",
       "</div>"
      ],
      "text/plain": [
       "            deaths  firearms\n",
       "deaths    1.000000 -0.175088\n",
       "firearms -0.175088  1.000000"
      ]
     },
     "metadata": {},
     "output_type": "display_data"
    }
   ],
   "source": [
    "# Correlation with outlier \n",
    "display(\"With the outlying observation: \",df1.corr())\n",
    "\n",
    "# Removing outlier and calculating correlation \n",
    "df2 = df1.drop(labels=21, axis=0)\n",
    "corr = df2.corr()\n",
    "display(\"Without the outlier: \", corr)"
   ]
  },
  {
   "cell_type": "markdown",
   "metadata": {},
   "source": [
    "(c) Fit the linear regression model with and without the outlying observation, and note how influential an outlier can be on the fit."
   ]
  },
  {
   "cell_type": "markdown",
   "metadata": {},
   "source": [
    "The presence of this outlier indicates that there might be extreme situations where a large increase in firearms correlates with a significant increase in deaths. However with the removal of the outlier the overall trend appears to be that firearms and deaths are slightly inversely related.\n",
    "\n",
    "Prediction equation with outlier: Deaths = -0.27 + 0.19 * Firearms   \n",
    "Prediction equation without outlier: Deaths = 3.91 + -0.03 * Firearms   "
   ]
  },
  {
   "cell_type": "code",
   "execution_count": 126,
   "metadata": {},
   "outputs": [
    {
     "name": "stdout",
     "output_type": "stream",
     "text": [
      "Prediction equation with outlier: Deaths = -0.27 + 0.19 * Firearms\n",
      "Prediction equation without outlier: Deaths = 3.91 + -0.03 * Firearms\n"
     ]
    }
   ],
   "source": [
    "# performing linear regression model with predictor \n",
    "X = sm.add_constant(df1['firearms'])\n",
    "model = sm.OLS(df1['deaths'], X)\n",
    "results = model.fit()\n",
    "\n",
    "# Report the prediction equation\n",
    "intercept = results.params[0]\n",
    "slope = results.params[1]\n",
    "print(\"Prediction equation with outlier: Deaths = {:.2f} + {:.2f} * Firearms\".format(intercept, slope))\n",
    "\n",
    "\n",
    "# performing linear regression model with predictor \n",
    "X = sm.add_constant(df2['firearms'])\n",
    "model = sm.OLS(df2['deaths'], X)\n",
    "results = model.fit()\n",
    "\n",
    "# Report the prediction equation\n",
    "intercept = results.params[0]\n",
    "slope = results.params[1]\n",
    "print(\"Prediction equation without outlier: Deaths = {:.2f} + {:.2f} * Firearms\".format(intercept, slope))"
   ]
  },
  {
   "cell_type": "markdown",
   "metadata": {},
   "source": [
    "## Problem 6.5."
   ]
  },
  {
   "cell_type": "markdown",
   "metadata": {},
   "source": [
    "For the `Covid19` data file at the text website:  \n",
    "http://stat4ds.rwth-aachen.de/data/Covid19.dat "
   ]
  },
  {
   "cell_type": "markdown",
   "metadata": {},
   "source": [
    "(a) Construct the two scatterplots shown in Figure 6.3."
   ]
  },
  {
   "cell_type": "code",
   "execution_count": 132,
   "metadata": {},
   "outputs": [
    {
     "data": {
      "image/png": "[encoded data removed]",
      "text/plain": [
       "<Figure size 900x300 with 2 Axes>"
      ]
     },
     "metadata": {},
     "output_type": "display_data"
    }
   ],
   "source": [
    "# Pulling in data for data frame\n",
    "data_url = 'http://stat4ds.rwth-aachen.de/data/Covid19.dat'\n",
    "data = pd.read_csv(data_url, delim_whitespace=True)\n",
    "df = pd.DataFrame(data)\n",
    "\n",
    "# Creating log cases\n",
    "df['log_cases'] = np.log(df['cases'])\n",
    "\n",
    "# Creating and labeling of 2 plots one normal and the other log(cases)\n",
    "fig, (ax1, ax2) = plt.subplots(1, 2, figsize=(9,3))\n",
    "ax1.scatter(df['day'], df['cases'], color='red')\n",
    "ax1.set_title(\"Cases per Day\")\n",
    "ax1.set_xlabel(\"Day\")\n",
    "ax1.set_ylabel(\"Number of Cases\")\n",
    "\n",
    "ax2.scatter(df['day'], df['log_cases'], color='blue')\n",
    "plt.xlabel(\"Day\")\n",
    "plt.ylabel(\"Log(Number of cases)\")\n",
    "plt.title(\"Logged Cases per day\")\n",
    "plt.tight_layout()\n",
    "plt.show()\n"
   ]
  },
  {
   "cell_type": "markdown",
   "metadata": {},
   "source": [
    "(b) Find and interpret the correlation between time and (i) cases, (ii) log(cases)."
   ]
  },
  {
   "cell_type": "markdown",
   "metadata": {},
   "source": [
    "There is a stronger correlation with the log_cases than with the normal 'cases' which leads me to believe a logarhitmic relationship would better represent day and cases. The rate of increase seems to be accelerating, which a log transformation better captures. "
   ]
  },
  {
   "cell_type": "code",
   "execution_count": 121,
   "metadata": {},
   "outputs": [
    {
     "data": {
      "text/plain": [
       "'Correlation between time and cases : '"
      ]
     },
     "metadata": {},
     "output_type": "display_data"
    },
    {
     "data": {
      "text/html": [
       "<div>\n",
       "<style scoped>\n",
       "    .dataframe tbody tr th:only-of-type {\n",
       "        vertical-align: middle;\n",
       "    }\n",
       "\n",
       "    .dataframe tbody tr th {\n",
       "        vertical-align: top;\n",
       "    }\n",
       "\n",
       "    .dataframe thead th {\n",
       "        text-align: right;\n",
       "    }\n",
       "</style>\n",
       "<table border=\"1\" class=\"dataframe\">\n",
       "  <thead>\n",
       "    <tr style=\"text-align: right;\">\n",
       "      <th></th>\n",
       "      <th>day</th>\n",
       "      <th>cases</th>\n",
       "    </tr>\n",
       "  </thead>\n",
       "  <tbody>\n",
       "    <tr>\n",
       "      <th>day</th>\n",
       "      <td>1.000000</td>\n",
       "      <td>0.793737</td>\n",
       "    </tr>\n",
       "    <tr>\n",
       "      <th>cases</th>\n",
       "      <td>0.793737</td>\n",
       "      <td>1.000000</td>\n",
       "    </tr>\n",
       "  </tbody>\n",
       "</table>\n",
       "</div>"
      ],
      "text/plain": [
       "            day     cases\n",
       "day    1.000000  0.793737\n",
       "cases  0.793737  1.000000"
      ]
     },
     "metadata": {},
     "output_type": "display_data"
    },
    {
     "data": {
      "text/plain": [
       "'Correlation between time and log cases: '"
      ]
     },
     "metadata": {},
     "output_type": "display_data"
    },
    {
     "data": {
      "text/html": [
       "<div>\n",
       "<style scoped>\n",
       "    .dataframe tbody tr th:only-of-type {\n",
       "        vertical-align: middle;\n",
       "    }\n",
       "\n",
       "    .dataframe tbody tr th {\n",
       "        vertical-align: top;\n",
       "    }\n",
       "\n",
       "    .dataframe thead th {\n",
       "        text-align: right;\n",
       "    }\n",
       "</style>\n",
       "<table border=\"1\" class=\"dataframe\">\n",
       "  <thead>\n",
       "    <tr style=\"text-align: right;\">\n",
       "      <th></th>\n",
       "      <th>day</th>\n",
       "      <th>log_cases</th>\n",
       "    </tr>\n",
       "  </thead>\n",
       "  <tbody>\n",
       "    <tr>\n",
       "      <th>day</th>\n",
       "      <td>1.000000</td>\n",
       "      <td>0.996821</td>\n",
       "    </tr>\n",
       "    <tr>\n",
       "      <th>log_cases</th>\n",
       "      <td>0.996821</td>\n",
       "      <td>1.000000</td>\n",
       "    </tr>\n",
       "  </tbody>\n",
       "</table>\n",
       "</div>"
      ],
      "text/plain": [
       "                day  log_cases\n",
       "day        1.000000   0.996821\n",
       "log_cases  0.996821   1.000000"
      ]
     },
     "metadata": {},
     "output_type": "display_data"
    }
   ],
   "source": [
    "df1 = df.drop(['log_cases'], axis=1)\n",
    "df2 = df.drop(['cases'], axis=1)\n",
    "display(\"Correlation between time and cases : \",df1.corr())\n",
    "display(\"Correlation between time and log cases: \", df2.corr())"
   ]
  },
  {
   "cell_type": "markdown",
   "metadata": {},
   "source": [
    "(c)  Fit the linear model for the log-transformed counts and report the prediction equation.$^{29}.$ Explain why the predicted count at day $x+1$ equals the predicted count at day $x$ multiplied by $\\text{exp}(\\hat\\beta_1)=1.36.$"
   ]
  },
  {
   "cell_type": "markdown",
   "metadata": {},
   "source": [
    "Prediction equation: Log(cases) = 2.84 + 0.31 * day  \n",
    "\n",
    "When you take the exponetial of the predicted equation you can simplify the equation and the ratio of the predicted counts between day x+1 and day x is equivalent to exp(β1) = 1.36.    "
   ]
  },
  {
   "cell_type": "code",
   "execution_count": 81,
   "metadata": {},
   "outputs": [
    {
     "name": "stdout",
     "output_type": "stream",
     "text": [
      "Prediction equation: Log(cases) = 2.84 + 0.31 * day\n",
      "Ratio: 1.36\n"
     ]
    }
   ],
   "source": [
    "# adds constant to the model\n",
    "X = df['day']\n",
    "X = sm.add_constant(X) \n",
    "y = df['log_cases']\n",
    "\n",
    "# performing linear regression model with constant \n",
    "model = sm.OLS(y, X)\n",
    "results = model.fit()\n",
    "\n",
    "# Report the prediction equation\n",
    "intercept = results.params[0]\n",
    "slope = results.params[1]\n",
    "print(\"Prediction equation: Log(cases) = {:.2f} + {:.2f} * day\".format(intercept, slope))\n",
    "\n",
    "# Make predictions for day x and day x+1\n",
    "x = 12  # Example day\n",
    "y_x = np.exp(intercept + slope * x)\n",
    "y_x2 = np.exp(intercept + slope * (x + 1))\n",
    "\n",
    "# Calculate the ratio of y_x_plus_1 to y_x\n",
    "ratio = y_x2 / y_x\n",
    "print(f\"Ratio: {ratio:.2f}\")"
   ]
  },
  {
   "cell_type": "markdown",
   "metadata": {},
   "source": [
    "## Problem 6.7."
   ]
  },
  {
   "cell_type": "markdown",
   "metadata": {},
   "source": [
    "For the model permitting interaction between distance and climb in their effect on women’s record times for the Scottish hill races, analyze whether any observation is influential in the least squares fit. How does the parameter estimate for the interaction term change when you analyze the data without it?"
   ]
  },
  {
   "cell_type": "markdown",
   "metadata": {},
   "source": [
    "Index 41 is a clear outlier and highly influential based on the initial scatterplot so that was the row removed. We later confirmed using cook's distance of 7.88 that this was an outlier. After removing row 41 from the dataset, the estimate of the interaction parameter changes from the substantively important effect of 0.658 (P-value=0.100) to the unimportant effect of -0.033 (highly non-significant with P-value=0.933)."
   ]
  },
  {
   "cell_type": "code",
   "execution_count": 115,
   "metadata": {},
   "outputs": [
    {
     "name": "stdout",
     "output_type": "stream",
     "text": [
      "                            OLS Regression Results                            \n",
      "==============================================================================\n",
      "Dep. Variable:                  timeW   R-squared:                       0.966\n",
      "Model:                            OLS   Adj. R-squared:                  0.964\n",
      "Method:                 Least Squares   F-statistic:                     598.7\n",
      "Date:                Mon, 19 Jun 2023   Prob (F-statistic):           9.45e-47\n",
      "Time:                        14:40:13   Log-Likelihood:                -272.79\n",
      "No. Observations:                  68   AIC:                             553.6\n",
      "Df Residuals:                      64   BIC:                             562.5\n",
      "Df Model:                           3                                         \n",
      "Covariance Type:            nonrobust                                         \n",
      "==================================================================================\n",
      "                     coef    std err          t      P>|t|      [0.025      0.975]\n",
      "----------------------------------------------------------------------------------\n",
      "const             -5.0162      6.683     -0.751      0.456     -18.367       8.335\n",
      "distance           4.3682      0.433     10.083      0.000       3.503       5.234\n",
      "climb             23.9446      7.858      3.047      0.003       8.247      39.643\n",
      "distance:climb     0.6582      0.394      1.669      0.100      -0.129       1.446\n",
      "==============================================================================\n",
      "Omnibus:                        3.981   Durbin-Watson:                   1.813\n",
      "Prob(Omnibus):                  0.137   Jarque-Bera (JB):                3.768\n",
      "Skew:                          -0.244   Prob(JB):                        0.152\n",
      "Kurtosis:                       4.045   Cond. No.                         196.\n",
      "==============================================================================\n",
      "\n",
      "Notes:\n",
      "[1] Standard Errors assume that the covariance matrix of the errors is correctly specified.\n",
      "                            OLS Regression Results                            \n",
      "==============================================================================\n",
      "Dep. Variable:                  timeW   R-squared:                       0.952\n",
      "Model:                            OLS   Adj. R-squared:                  0.950\n",
      "Method:                 Least Squares   F-statistic:                     416.3\n",
      "Date:                Mon, 19 Jun 2023   Prob (F-statistic):           1.82e-41\n",
      "Time:                        14:40:13   Log-Likelihood:                -261.27\n",
      "No. Observations:                  67   AIC:                             530.5\n",
      "Df Residuals:                      63   BIC:                             539.3\n",
      "Df Model:                           3                                         \n",
      "Covariance Type:            nonrobust                                         \n",
      "==================================================================================\n",
      "                     coef    std err          t      P>|t|      [0.025      0.975]\n",
      "----------------------------------------------------------------------------------\n",
      "const             -9.3621      6.069     -1.543      0.128     -21.491       2.766\n",
      "distance           4.1979      0.390     10.773      0.000       3.419       4.977\n",
      "climb             44.5088      8.617      5.165      0.000      27.289      61.729\n",
      "distance:climb    -0.0330      0.390     -0.085      0.933      -0.813       0.747\n",
      "==============================================================================\n",
      "Omnibus:                        1.477   Durbin-Watson:                   1.717\n",
      "Prob(Omnibus):                  0.478   Jarque-Bera (JB):                0.810\n",
      "Skew:                           0.172   Prob(JB):                        0.667\n",
      "Kurtosis:                       3.415   Cond. No.                         192.\n",
      "==============================================================================\n",
      "\n",
      "Notes:\n",
      "[1] Standard Errors assume that the covariance matrix of the errors is correctly specified.\n"
     ]
    }
   ],
   "source": [
    "data_url = 'http://stat4ds.rwth-aachen.de/data/ScotsRaces.dat'\n",
    "data = pd.read_csv(data_url, delim_whitespace=True)\n",
    "df = pd.DataFrame(data)\n",
    "# cleaning datasets and creating interaction\n",
    "df = df.drop(['race', 'timeM'], axis=1)\n",
    "X = df[['distance', 'climb']]\n",
    "X['distance:climb'] = df['distance'] * df['climb']\n",
    "X = sm.add_constant(X)\n",
    "y = df['timeW']\n",
    "\n",
    "# Analysis With data outlier\n",
    "model = sm.OLS(y, X)\n",
    "results = model.fit()\n",
    "# Perform influence analysis\n",
    "print(results.summary())\n",
    "\n",
    "# Observing Cook's d values /  I was able to confirm the outlier\n",
    "influence = results.get_influence()\n",
    "summary_table = influence.summary_table()\n",
    "# print(summary_table)\n",
    "\n",
    "# Without outlier and adding interaction \n",
    "y_wo = y.drop(labels=40)\n",
    "X1 = X\n",
    "X1 = X1.drop(labels=40) \n",
    "model = sm.OLS(y_wo, X1)\n",
    "results = model.fit()\n",
    "print(results.summary())"
   ]
  },
  {
   "cell_type": "markdown",
   "metadata": {},
   "source": [
    "## Problem 6.8."
   ]
  },
  {
   "cell_type": "markdown",
   "metadata": {},
   "source": [
    "Refer to the example in Section 6.2.5 of the crime rate in Florida counties."
   ]
  },
  {
   "cell_type": "markdown",
   "metadata": {},
   "source": [
    "(a) Explain what it means when we say these data exhibit *Simpson’s paradox*. What could cause this change in the direction of the association between crime rate and education\n",
    "when we adjust for urbanization?"
   ]
  },
  {
   "cell_type": "markdown",
   "metadata": {},
   "source": [
    "According to the Figure 6.5, forida counties shows how a positive association between crime rate and education can change to negative when we adjust and ignore urbanization. This phenomenon of association reversal between marginal and conditional associations is called Simpson's paradox."
   ]
  },
  {
   "cell_type": "markdown",
   "metadata": {},
   "source": [
    "(b) Using the Florida data file, construct the scatterplot between *x* = education (HS) and *y* = income (Income), for which the correlation is 0.79. If we had data at the individual\n",
    "level as well as aggregated for a county, sketch a scatterplot to show that at that level the correlation could be much weaker. So, predictions about individuals based on the\n",
    "behavior of aggregate groups, known as the *ecological fallacy*, can be quite misleading."
   ]
  },
  {
   "cell_type": "code",
   "execution_count": 133,
   "metadata": {},
   "outputs": [
    {
     "name": "stdout",
     "output_type": "stream",
     "text": [
      "Correlation calculated:  0.79\n"
     ]
    },
    {
     "data": {
      "image/png": "[encoded data removed]",
      "text/plain": [
       "<Figure size 500x200 with 1 Axes>"
      ]
     },
     "metadata": {},
     "output_type": "display_data"
    }
   ],
   "source": [
    "# reading data and define givens\n",
    "data_url = 'http://stat4ds.rwth-aachen.de/data/Florida.dat'\n",
    "data = pd.read_csv(data_url, delim_whitespace=True)\n",
    "fdf = pd.DataFrame(data)\n",
    "X = fdf['HS']\n",
    "y = fdf['Income']\n",
    "corr = 0.79\n",
    "# calc correlation\n",
    "corr = round(np.corrcoef(X, y)[0,1],2)\n",
    "print(\"Correlation calculated: \", corr)\n",
    "\n",
    "# scatterplot \n",
    "fig, ax1 = plt.subplots(figsize=(5,2))\n",
    "ax1.scatter(X, y, color='red')\n",
    "ax1.set_title(f\"Scatterplot of Education vs Income at the County Level, r={corr}\")\n",
    "ax1.set_xlabel(\"Education (HS)\")\n",
    "ax1.axvline(x = 54.5, color = 'b', label = 'axvline - bottom range')\n",
    "ax1.axvline(x = 84.9, color = 'b', label = 'axvline - top range')\n",
    "\n",
    "ax1.set_ylabel(\"Income\")\n",
    "plt.tight_layout()\n",
    "plt.show()\n"
   ]
  },
  {
   "cell_type": "markdown",
   "metadata": {},
   "source": [
    "(c) Refer to (b), in which *x* falls between 54.5 and 84.9. Is it sensible to use the least squares line to predict a county’s median income if *x* = 0? Sketch a hypothetical true relationship between *x* and *E(Y)* to show the danger of *extrapolation*, using a fitted line to predict *E(Y)* far from the observed *x* values."
   ]
  },
  {
   "cell_type": "markdown",
   "metadata": {},
   "source": [
    "Since all graduation falls are greater than 50. Using a least square line to predict Income when education is equal to 0 would be extrapolation.\n",
    "\n"
   ]
  },
  {
   "cell_type": "code",
   "execution_count": 134,
   "metadata": {
    "tags": []
   },
   "outputs": [
    {
     "name": "stdout",
     "output_type": "stream",
     "text": [
      "Intercept -4.604318625951411, Coef: [0.41898049], R-squared: 0.628248766082176\n"
     ]
    },
    {
     "data": {
      "image/png": "[encoded data removed]",
      "text/plain": [
       "<Figure size 500x200 with 1 Axes>"
      ]
     },
     "metadata": {},
     "output_type": "display_data"
    }
   ],
   "source": [
    "x = X.values.reshape(-1, 1)\n",
    "model = LinearRegression()\n",
    "model.fit(x, y)\n",
    "print(f\"Intercept {model.intercept_}, Coef: {model.coef_}, R-squared: {model.score(x, y)}\")\n",
    "\n",
    "# Generate x values for prediction and plot fitted line\n",
    "x_fit = np.linspace(0, 100, 400).reshape(-1, 1)\n",
    "y_fit = model.predict(x_fit)\n",
    "\n",
    "fig, ax = plt.subplots(figsize=(5,2))\n",
    "plt.scatter(x, y)\n",
    "plt.plot(x_fit, y_fit, color='red', label='Fitted line')\n",
    "plt.xlabel('Education (HS)')\n",
    "plt.ylabel('Income')\n",
    "plt.title('Danger of Extrapolation')\n",
    "plt.legend()\n",
    "plt.show()"
   ]
  },
  {
   "cell_type": "markdown",
   "metadata": {},
   "source": [
    "## Problem 6.10."
   ]
  },
  {
   "cell_type": "markdown",
   "metadata": {},
   "source": [
    "The `Students` data file shows responses on variables summarized in Exercise 1.2."
   ]
  },
  {
   "cell_type": "markdown",
   "metadata": {},
   "source": [
    "(a) Fit the linear model using *hsgpa* = high school GPA, *tv* = weekly hours watching TV, and *sport* = weekly hours participating in sports as predictors of *cogpa* = college GPA. Report the prediction equation. What do the *P*-values suggest?"
   ]
  },
  {
   "cell_type": "markdown",
   "metadata": {},
   "source": [
    "Assuming 0.05 as significant, the p values tell me that the hspga is a significant predictor of cogpa, where as the other indedpendent variables are not.  \n",
    "Prediction equation : cogpa = 2.82 + .21(hsgpa) + 0(tv) - 0.01(sport)"
   ]
  },
  {
   "cell_type": "code",
   "execution_count": 90,
   "metadata": {},
   "outputs": [
    {
     "name": "stdout",
     "output_type": "stream",
     "text": [
      "Intercept [2.81542733], Coef: [[ 0.20880392  0.00333565 -0.01406554]], R-squared: 0.10451831451756532 \n"
     ]
    }
   ],
   "source": [
    "# reading data and define givens\n",
    "data_url = 'http://stat4ds.rwth-aachen.de/data/Students.dat'\n",
    "data = pd.read_csv(data_url, delim_whitespace=True)\n",
    "df = pd.DataFrame(data)\n",
    "\n",
    "# Creating parameters needed\n",
    "x = df[['hsgpa','tv','sport']]\n",
    "y = df[['cogpa']]\n",
    "\n",
    "# Fitting the linear model \n",
    "model = LinearRegression()\n",
    "model.fit(x, y)\n",
    "\n",
    "# print(\"Prediction equation: Log(cases) = {:.2f} + {:.2f} * day\".format(intercept, slope))\n",
    "print(f\"Intercept {model.intercept_}, Coef: {model.coef_}, R-squared: {model.score(x, y)} \")"
   ]
  },
  {
   "cell_type": "code",
   "execution_count": 91,
   "metadata": {
    "tags": []
   },
   "outputs": [
    {
     "name": "stdout",
     "output_type": "stream",
     "text": [
      "                            OLS Regression Results                            \n",
      "==============================================================================\n",
      "Dep. Variable:                  cogpa   R-squared:                       0.105\n",
      "Model:                            OLS   Adj. R-squared:                  0.057\n",
      "Method:                 Least Squares   F-statistic:                     2.179\n",
      "Date:                Mon, 19 Jun 2023   Prob (F-statistic):              0.101\n",
      "Time:                        13:59:23   Log-Likelihood:                -18.587\n",
      "No. Observations:                  60   AIC:                             45.17\n",
      "Df Residuals:                      56   BIC:                             53.55\n",
      "Df Model:                           3                                         \n",
      "Covariance Type:            nonrobust                                         \n",
      "==============================================================================\n",
      "                 coef    std err          t      P>|t|      [0.025      0.975]\n",
      "------------------------------------------------------------------------------\n",
      "const          2.8154      0.368      7.655      0.000       2.079       3.552\n",
      "hsgpa          0.2088      0.101      2.061      0.044       0.006       0.412\n",
      "tv             0.0033      0.007      0.486      0.629      -0.010       0.017\n",
      "sport         -0.0141      0.012     -1.213      0.230      -0.037       0.009\n",
      "==============================================================================\n",
      "Omnibus:                        3.507   Durbin-Watson:                   1.600\n",
      "Prob(Omnibus):                  0.173   Jarque-Bera (JB):                1.919\n",
      "Skew:                          -0.148   Prob(JB):                        0.383\n",
      "Kurtosis:                       2.175   Cond. No.                         97.6\n",
      "==============================================================================\n",
      "\n",
      "Notes:\n",
      "[1] Standard Errors assume that the covariance matrix of the errors is correctly specified.\n"
     ]
    }
   ],
   "source": [
    "# Fit a linear model part 2 for confirmation\n",
    "X = df[['hsgpa', 'tv', 'sport']]\n",
    "X = sm.add_constant(X) # adding a constant\n",
    "y = df['cogpa']\n",
    "model2 = sm.OLS(y, X).fit()\n",
    "print(model2.summary())"
   ]
  },
  {
   "cell_type": "markdown",
   "metadata": {},
   "source": [
    "(b)  Summarize the estimated effect of *hsgpa.*"
   ]
  },
  {
   "cell_type": "markdown",
   "metadata": {},
   "source": [
    "My analysis of the hsgpa of 0.2088 shows me that there is a slight positive correlation between highschool gpa and college gpa. Overall having a good hsgpa will predict you will have better a cogpa. "
   ]
  },
  {
   "cell_type": "markdown",
   "metadata": {},
   "source": [
    "(c) Report and interpret $R^2$, adjusted $R^2$, and the multiple correlation."
   ]
  },
  {
   "cell_type": "markdown",
   "metadata": {},
   "source": [
    "R-squared; 0.105   | Adj. R-squared: 0.057  | Coef: [[ 0.20880392  0.00333565 -0.01406554]]\n",
    "\n",
    "A low R-sqaured value indicates that the model does not fit the data well, only about 10.5% reflects on the variance in the cogpa. \n",
    "Adj R-squared is lower than the R-squared, suggesting that some of the predictors may not be adding much value to the model. Adj R-squared is normally more accurate than the R-squared value. \n",
    "The multiple correlation coeficients to me tells me that those are weights on each of the independent variables. \n"
   ]
  },
  {
   "cell_type": "markdown",
   "metadata": {},
   "source": [
    "## Problem 6.11."
   ]
  },
  {
   "cell_type": "markdown",
   "metadata": {},
   "source": [
    "Refer to the model fitted in the previous exercise to predict college GPA."
   ]
  },
  {
   "cell_type": "markdown",
   "metadata": {},
   "source": [
    "(a) Test $H_0:\\beta_1 = \\beta_2 = \\beta_3 =0.$ Report the *P*-value and interpret.\n"
   ]
  },
  {
   "cell_type": "markdown",
   "metadata": {},
   "source": [
    "P-values : hsgpa = 0.044 | tv = 0.629 | sport = 0.230   \n",
    "By multiplying the independent variables by zero you still have a constant, which lets us reject the null hypothesis.\n",
    "\n",
    "If the p-value is less than 0.05, you can reject the null hypothesis and conclude that at least one of the predictor variables is statistically significantly related to the outcome variable. In this case hsgpa is lower than 0.05 and we can reject the null hypothesis. \n"
   ]
  },
  {
   "cell_type": "markdown",
   "metadata": {},
   "source": [
    "(b) Show how to conduct a significance test about the individual effect of hsgpa, adjusting for tv and sport, using $\\alpha = 0.05$. Interpret."
   ]
  },
  {
   "cell_type": "markdown",
   "metadata": {},
   "source": [
    "From the summary table above, df = 56 and the P-value = 0.044 for hsgpa  \n",
    "Reject H0 (hsgpa has a positive effect on cogpa, adjusting for tv and sport)"
   ]
  },
  {
   "cell_type": "markdown",
   "metadata": {},
   "source": [
    "(c)  Is the effect in (b) significant at the $\\alpha = 0.05$ level if we use the Bonferroni approach to test the family of three individual effects? Explain."
   ]
  },
  {
   "cell_type": "markdown",
   "metadata": {},
   "source": [
    "The Bonferroni approach we need P-value ≤ 0.017 to reject H0. So the hsgpa effect is not significant with this new correction. "
   ]
  },
  {
   "cell_type": "code",
   "execution_count": 87,
   "metadata": {},
   "outputs": [
    {
     "name": "stdout",
     "output_type": "stream",
     "text": [
      "adjusted signficiance level p value: 0.017\n"
     ]
    }
   ],
   "source": [
    "alpahcBon = 0.05 / 3\n",
    "print(f\"adjusted signficiance level p value: {alpahcBon:.3f}\") "
   ]
  },
  {
   "cell_type": "markdown",
   "metadata": {},
   "source": [
    "(d) Are the effects of *tv* and *sport* significant? Propose an alternative model."
   ]
  },
  {
   "cell_type": "markdown",
   "metadata": {},
   "source": [
    "From previous testing, we conclude that, among these variables, only hsgpa has a significant effect on the mean college GPA.    \n",
    "The newly proposed model would be : cogpa = 2.75 + (.213 * hsgps)"
   ]
  },
  {
   "cell_type": "code",
   "execution_count": 19,
   "metadata": {},
   "outputs": [
    {
     "name": "stdout",
     "output_type": "stream",
     "text": [
      "                            OLS Regression Results                            \n",
      "==============================================================================\n",
      "Dep. Variable:                  cogpa   R-squared:                       0.077\n",
      "Model:                            OLS   Adj. R-squared:                  0.062\n",
      "Method:                 Least Squares   F-statistic:                     4.871\n",
      "Date:                Sun, 18 Jun 2023   Prob (F-statistic):             0.0313\n",
      "Time:                        16:20:26   Log-Likelihood:                -19.479\n",
      "No. Observations:                  60   AIC:                             42.96\n",
      "Df Residuals:                      58   BIC:                             47.15\n",
      "Df Model:                           1                                         \n",
      "Covariance Type:            nonrobust                                         \n",
      "==============================================================================\n",
      "                 coef    std err          t      P>|t|      [0.025      0.975]\n",
      "------------------------------------------------------------------------------\n",
      "const          2.7492      0.322      8.536      0.000       2.104       3.394\n",
      "hsgpa          0.2128      0.096      2.207      0.031       0.020       0.406\n",
      "==============================================================================\n",
      "Omnibus:                        8.135   Durbin-Watson:                   1.577\n",
      "Prob(Omnibus):                  0.017   Jarque-Bera (JB):                2.955\n",
      "Skew:                          -0.175   Prob(JB):                        0.228\n",
      "Kurtosis:                       1.971   Cond. No.                         26.6\n",
      "==============================================================================\n",
      "\n",
      "Notes:\n",
      "[1] Standard Errors assume that the covariance matrix of the errors is correctly specified.\n"
     ]
    }
   ],
   "source": [
    "X = df[['hsgpa']]\n",
    "X = sm.add_constant(X) # adding a constant\n",
    "y = df['cogpa']\n",
    "model2 = sm.OLS(y, X).fit()\n",
    "print(model2.summary())"
   ]
  },
  {
   "cell_type": "markdown",
   "metadata": {},
   "source": [
    "## Problem 6.12."
   ]
  },
  {
   "cell_type": "markdown",
   "metadata": {},
   "source": [
    "For the `UN` data file at the book’s website (see Exercise 1.24), construct a multiple regression model predicting Internet using all the other variables. Use the concept of multicollinearity to explain why adjusted $R^2$ is not dramatically greater than when GDP is the sole predictor. Compare the estimated GDP effect in the bivariate model and the multiple regression model and explain why it is so much weaker in the multiple regression model."
   ]
  },
  {
   "cell_type": "markdown",
   "metadata": {},
   "source": [
    "R^2 score (all other features):  0.59   \n",
    "R^2 score (only GDP feature):  0.69  \n",
    "\n",
    "Because of multicollinearity, if other variables in the model are correlated with GDP, they could be absorbing some of the explanatory power of GDP, causing its coefficient to be smaller in the multiple regression model. I was able to see that GDP also had a variance inflation factor above 7.3, indicating that multicollinearity is a problem."
   ]
  },
  {
   "cell_type": "code",
   "execution_count": 84,
   "metadata": {},
   "outputs": [
    {
     "name": "stdout",
     "output_type": "stream",
     "text": [
      "R^2 score:  0.5927304763116514\n"
     ]
    },
    {
     "data": {
      "image/png": "[encoded data removed]",
      "text/plain": [
       "<Figure size 500x200 with 1 Axes>"
      ]
     },
     "metadata": {},
     "output_type": "display_data"
    },
    {
     "name": "stdout",
     "output_type": "stream",
     "text": [
      "   VIF Factor   features\n",
      "0  569.419104      const\n",
      "1    7.344154        GDP\n",
      "2   10.839134        HDI\n",
      "3    7.157718        GII\n",
      "4    2.192998  Fertility\n",
      "5    2.589220        CO2\n",
      "6    1.471826   Homicide\n",
      "7    1.924542     Prison\n"
     ]
    }
   ],
   "source": [
    "from sklearn.metrics import r2_score\n",
    "from statsmodels.stats.outliers_influence import variance_inflation_factor\n",
    "# reading data and define givens\n",
    "data_url = 'http://stat4ds.rwth-aachen.de/data/UN.dat'\n",
    "data = pd.read_csv(data_url, delim_whitespace=True)\n",
    "df = pd.DataFrame(data)\n",
    "df = df.drop('Nation', axis=1)\n",
    "x = df.loc[:, df.columns != 'Internet']\n",
    "x = sm.add_constant(x)\n",
    "y = df['Internet']\n",
    "\n",
    "# splitting data into test and training set and running linear regression model \n",
    "x_train, x_test, y_train, y_test = train_test_split(x, y, test_size = 0.3, random_state=22)\n",
    "sk_model = LinearRegression()\n",
    "sk_model.fit(x_train, y_train)\n",
    "\n",
    "# created columns and coefficients df\n",
    "coef = pd.DataFrame(sk_model.coef_, columns=['Coefficients'])\n",
    "cols = pd.DataFrame(x.columns, columns=['Columns'])\n",
    "joined = pd.concat([cols['Columns'], coef['Coefficients']], axis=1)\n",
    "\n",
    "# making predictions based off of model\n",
    "y_pred_test = sk_model.predict(x_test)\n",
    "print(\"R^2 score: \", r2_score(y_test, y_pred_test))\n",
    "\n",
    "# Plotting scatter plot\n",
    "fig, ax1 = plt.subplots(figsize=(5,2))\n",
    "plt.scatter(y_test, y_pred_test)\n",
    "plt.xlabel('Predictions')\n",
    "plt.ylabel('Actual')\n",
    "plt.title('Actual vs Prediction')\n",
    "plt.show()\n",
    "\n",
    "# finding variance inflation factors and mapping to features\n",
    "vif = pd.DataFrame()\n",
    "vif[\"VIF Factor\"] = [variance_inflation_factor(x.values, i) for i in range(x.shape[1])]\n",
    "vif[\"features\"] = x.columns\n",
    "print(vif)"
   ]
  },
  {
   "cell_type": "code",
   "execution_count": 86,
   "metadata": {
    "tags": []
   },
   "outputs": [
    {
     "name": "stdout",
     "output_type": "stream",
     "text": [
      "R^2 score:  0.6885604524434678\n"
     ]
    }
   ],
   "source": [
    "# limiting to only one feature for comparison\n",
    "x = df['GDP']\n",
    "x = sm.add_constant(x)\n",
    "y = df['Internet']\n",
    "\n",
    "# splitting data into test and training set and running linear regression model \n",
    "x_train, x_test, y_train, y_test = train_test_split(x, y, test_size = 0.3, random_state=22)\n",
    "sk_model = LinearRegression()\n",
    "sk_model.fit(x_train, y_train)\n",
    "\n",
    "# Predicting with test x values \n",
    "y_pred_test = sk_model.predict(x_test)\n",
    "print(\"R^2 score: \", r2_score(y_test, y_pred_test))"
   ]
  },
  {
   "cell_type": "markdown",
   "metadata": {},
   "source": [
    "## Problem 6.13."
   ]
  },
  {
   "cell_type": "markdown",
   "metadata": {},
   "source": [
    "For the `Polid` data file summarized in Table 5.2, conduct an ANOVA to analyze whether mean political ideology varies by race. Use a follow-up multiple comparison method with overall\n",
    "confidence level 0.95 to estimate differences of means between pairs of races on political ideology. Interpret results."
   ]
  },
  {
   "cell_type": "markdown",
   "metadata": {},
   "source": [
    "From the ANOVA table, the F statistic and associated p-value will tell you if there is a significant difference in the means of political ideology across the different races. With a p-value is less than 0.0001 we can reject the null hypothesis and conclude that there is a significant difference.\n",
    "\n",
    "The turkey multiple companison method shows that Hispanics and Whites tend to be more conservative than Blacks, on the average, but there is no significant difference between Whites and Hispanics."
   ]
  },
  {
   "cell_type": "code",
   "execution_count": 83,
   "metadata": {
    "tags": []
   },
   "outputs": [
    {
     "name": "stdout",
     "output_type": "stream",
     "text": [
      "               sum_sq      df         F    PR(>F)\n",
      "C(race)     38.790728     2.0  9.620635  0.000069\n",
      "Residual  5185.196068  2572.0       NaN       NaN\n",
      "  Multiple Comparison of Means - Tukey HSD, FWER=0.05  \n",
      "=======================================================\n",
      " group1   group2  meandiff p-adj   lower  upper  reject\n",
      "-------------------------------------------------------\n",
      "   black hispanic   0.2727 0.0245  0.0279 0.5175   True\n",
      "   black    white   0.3539    0.0  0.1643 0.5434   True\n",
      "hispanic    white   0.0811 0.5759 -0.1088 0.2711  False\n",
      "-------------------------------------------------------\n"
     ]
    }
   ],
   "source": [
    "import statsmodels.api as sm\n",
    "from statsmodels.formula.api import ols\n",
    "from statsmodels.stats.multicomp import pairwise_tukeyhsd\n",
    "\n",
    "# read data\n",
    "data_url = 'http://stat4ds.rwth-aachen.de/data/Polid.dat'\n",
    "data = pd.read_csv(data_url, delim_whitespace=True)\n",
    "df = pd.DataFrame(data)\n",
    "\n",
    "# fit model with the data\n",
    "model = ols('ideology ~ C(race)', data=df).fit()\n",
    "\n",
    "# perform ANOVA and print the table\n",
    "anova_table = sm.stats.anova_lm(model, typ=2)\n",
    "print(anova_table)\n",
    "\n",
    "# perform multiple pairwise comparison (Tukey HSD)\n",
    "m_comp = pairwise_tukeyhsd(df['ideology'], df['race'], alpha=0.05)\n",
    "print(m_comp)"
   ]
  },
  {
   "cell_type": "markdown",
   "metadata": {},
   "source": [
    "## Problem 7.1."
   ]
  },
  {
   "cell_type": "markdown",
   "metadata": {},
   "source": [
    "For the `Houses` data file described in Section 7.1.3, consider $Y$ = selling price, $x_1$ = tax bill (in dollars), and $x_2$ = whether the house is new."
   ]
  },
  {
   "cell_type": "markdown",
   "metadata": {},
   "source": [
    "(a) Form the scatterplot of $y$ and $x_1$. Does the normal GLM structure of constant variability in $y$ seem approproate? If not, how does it seem to be violated?"
   ]
  },
  {
   "cell_type": "markdown",
   "metadata": {},
   "source": [
    "Prices seem to vary more when there are higher taxes. Variability in Y could be greater when its mean is higher, at higher tax dollars, violating the ordinary linear model assumption of constant variability in Y. We could instead assume that the conditional distribution of Y is the gamma distribution."
   ]
  },
  {
   "cell_type": "code",
   "execution_count": 135,
   "metadata": {},
   "outputs": [
    {
     "data": {
      "image/png": "[encoded data removed]",
      "text/plain": [
       "<Figure size 500x200 with 1 Axes>"
      ]
     },
     "metadata": {},
     "output_type": "display_data"
    }
   ],
   "source": [
    "# read data\n",
    "data_url = 'http://stat4ds.rwth-aachen.de/data/Houses.dat'\n",
    "data = pd.read_csv(data_url, delim_whitespace=True)\n",
    "df = pd.DataFrame(data)\n",
    "y = df[['price']]\n",
    "x1 = df['taxes']\n",
    "x2 = df['new']\n",
    "\n",
    "# creating scatterplot of selling price vs taxes\n",
    "fig, ax1 = plt.subplots(figsize=(5,2))\n",
    "ax1.scatter(x1, y, color='red')\n",
    "ax1.set_title(\"Scatterplot Selling Price vs Taxes\")\n",
    "ax1.set_xlabel(\"Taxes (in dollars)\")\n",
    "ax1.set_ylabel(\"Selling Price\")\n",
    "plt.show()"
   ]
  },
  {
   "cell_type": "markdown",
   "metadata": {},
   "source": [
    "(b) Using the identity link function, fit the (i) normal GLM, (ii) gamma GLM. For each model, interpret the effect of $x_2$."
   ]
  },
  {
   "cell_type": "markdown",
   "metadata": {},
   "source": [
    "Based on the coefficients, the estimated mean price for new homes is 86.2 thousand dollars, higher than for older homes with the Gaussian model compared to the gamma model. The effect of x2 is that it brings the median closer to the true real value, accounting for outliers. "
   ]
  },
  {
   "cell_type": "code",
   "execution_count": 136,
   "metadata": {},
   "outputs": [
    {
     "name": "stdout",
     "output_type": "stream",
     "text": [
      "                 Generalized Linear Model Regression Results                  \n",
      "==============================================================================\n",
      "Dep. Variable:                  price   No. Observations:                  100\n",
      "Model:                            GLM   Df Residuals:                       97\n",
      "Model Family:                Gaussian   Df Model:                            2\n",
      "Link Function:               Identity   Scale:                          6212.7\n",
      "Method:                          IRLS   Log-Likelihood:                -577.09\n",
      "Date:                Mon, 19 Jun 2023   Deviance:                   6.0264e+05\n",
      "Time:                        14:57:30   Pearson chi2:                 6.03e+05\n",
      "No. Iterations:                     3   Pseudo R-squ. (CS):             0.9333\n",
      "Covariance Type:            nonrobust                                         \n",
      "==============================================================================\n",
      "                 coef    std err          z      P>|z|      [0.025      0.975]\n",
      "------------------------------------------------------------------------------\n",
      "const         41.9651     14.695      2.856      0.004      13.163      70.767\n",
      "taxes          0.0951      0.007     13.722      0.000       0.082       0.109\n",
      "new           86.2001     27.245      3.164      0.002      32.801     139.599\n",
      "==============================================================================\n",
      "Confidence interval: \n",
      "                0           1\n",
      "const  13.163365   70.766921\n",
      "taxes   0.081544    0.108720\n",
      "new    32.801235  139.598920\n",
      "                 Generalized Linear Model Regression Results                  \n",
      "==============================================================================\n",
      "Dep. Variable:                  price   No. Observations:                  100\n",
      "Model:                            GLM   Df Residuals:                       97\n",
      "Model Family:                   Gamma   Df Model:                            2\n",
      "Link Function:               identity   Scale:                        0.087318\n",
      "Method:                          IRLS   Log-Likelihood:                -549.36\n",
      "Date:                Mon, 19 Jun 2023   Deviance:                       8.6477\n",
      "Time:                        14:57:30   Pearson chi2:                     8.47\n",
      "No. Iterations:                    14   Pseudo R-squ. (CS):             0.9306\n",
      "Covariance Type:            nonrobust                                         \n",
      "==============================================================================\n",
      "                 coef    std err          z      P>|z|      [0.025      0.975]\n",
      "------------------------------------------------------------------------------\n",
      "const         63.2225      7.837      8.068      0.000      47.863      78.582\n",
      "taxes          0.0836      0.006     13.457      0.000       0.071       0.096\n",
      "new           80.5469     35.971      2.239      0.025      10.044     151.049\n",
      "==============================================================================\n",
      "Confidence Interval: \n",
      "                0           1\n",
      "const  47.863135   78.581906\n",
      "taxes   0.071414    0.095762\n",
      "new    10.044404  151.049352\n"
     ]
    },
    {
     "name": "stderr",
     "output_type": "stream",
     "text": [
      "/usr/local/lib/python3.11/site-packages/statsmodels/genmod/families/links.py:13: FutureWarning: The identity link alias is deprecated. Use Identity instead. The identity link alias will be removed after the 0.15.0 release.\n",
      "  warnings.warn(\n",
      "/usr/local/lib/python3.11/site-packages/statsmodels/genmod/generalized_linear_model.py:307: DomainWarning: The identity link function does not respect the domain of the Gamma family.\n",
      "  warnings.warn((f\"The {type(family.link).__name__} link function \"\n"
     ]
    }
   ],
   "source": [
    "exog = df[['taxes', 'new']]\n",
    "\n",
    "# Instantiate a Gaussian family model with the default link function.\n",
    "glm_gaus = sm.GLM(y, sm.add_constant(exog), family=sm.families.Gaussian())\n",
    "res_gaus = glm_gaus.fit()\n",
    "print(res_gaus.summary())\n",
    "print(\"Confidence interval: \\n\", res_gaus.conf_int())\n",
    "\n",
    "# Instantiate a gamma family model with the default link function.\n",
    "glm_gamma = sm.GLM(y, sm.add_constant(exog), family=sm.families.Gamma(link=sm.genmod.families.links.identity()))\n",
    "res_gamma = glm_gamma.fit()\n",
    "print(res_gamma.summary())\n",
    "print(\"Confidence Interval: \\n\", res_gamma.conf_int())"
   ]
  },
  {
   "cell_type": "markdown",
   "metadata": {},
   "source": [
    "(c) For each model, describe how the estimated variability in selling prices varies as the mean selling price varies from 100 thousand to 500 thousand dollars."
   ]
  },
  {
   "cell_type": "markdown",
   "metadata": {},
   "source": []
  },
  {
   "cell_type": "code",
   "execution_count": 137,
   "metadata": {},
   "outputs": [
    {
     "data": {
      "text/plain": [
       "'Estimated at for range of 100 - 500 mean selling price using Gaussian model : '"
      ]
     },
     "metadata": {},
     "output_type": "display_data"
    },
    {
     "data": {
      "text/html": [
       "<div>\n",
       "<style scoped>\n",
       "    .dataframe tbody tr th:only-of-type {\n",
       "        vertical-align: middle;\n",
       "    }\n",
       "\n",
       "    .dataframe tbody tr th {\n",
       "        vertical-align: top;\n",
       "    }\n",
       "\n",
       "    .dataframe thead th {\n",
       "        text-align: right;\n",
       "    }\n",
       "</style>\n",
       "<table border=\"1\" class=\"dataframe\">\n",
       "  <thead>\n",
       "    <tr style=\"text-align: right;\">\n",
       "      <th></th>\n",
       "      <th>mean</th>\n",
       "      <th>mean_se</th>\n",
       "      <th>mean_ci_lower</th>\n",
       "      <th>mean_ci_upper</th>\n",
       "    </tr>\n",
       "  </thead>\n",
       "  <tbody>\n",
       "    <tr>\n",
       "      <th>0</th>\n",
       "      <td>8806.173255</td>\n",
       "      <td>2719.688315</td>\n",
       "      <td>3475.682108</td>\n",
       "      <td>14136.664402</td>\n",
       "    </tr>\n",
       "    <tr>\n",
       "      <th>1</th>\n",
       "      <td>17426.180995</td>\n",
       "      <td>5444.158144</td>\n",
       "      <td>6755.827107</td>\n",
       "      <td>28096.534883</td>\n",
       "    </tr>\n",
       "    <tr>\n",
       "      <th>2</th>\n",
       "      <td>26046.188735</td>\n",
       "      <td>8168.635293</td>\n",
       "      <td>10035.957757</td>\n",
       "      <td>42056.419713</td>\n",
       "    </tr>\n",
       "    <tr>\n",
       "      <th>3</th>\n",
       "      <td>34666.196475</td>\n",
       "      <td>10893.114271</td>\n",
       "      <td>13316.084825</td>\n",
       "      <td>56016.308126</td>\n",
       "    </tr>\n",
       "    <tr>\n",
       "      <th>4</th>\n",
       "      <td>43286.204216</td>\n",
       "      <td>13617.593979</td>\n",
       "      <td>16596.210461</td>\n",
       "      <td>69976.197970</td>\n",
       "    </tr>\n",
       "  </tbody>\n",
       "</table>\n",
       "</div>"
      ],
      "text/plain": [
       "           mean       mean_se  mean_ci_lower  mean_ci_upper\n",
       "0   8806.173255   2719.688315    3475.682108   14136.664402\n",
       "1  17426.180995   5444.158144    6755.827107   28096.534883\n",
       "2  26046.188735   8168.635293   10035.957757   42056.419713\n",
       "3  34666.196475  10893.114271   13316.084825   56016.308126\n",
       "4  43286.204216  13617.593979   16596.210461   69976.197970"
      ]
     },
     "metadata": {},
     "output_type": "display_data"
    },
    {
     "data": {
      "text/plain": [
       "'variance of the prediction means: '"
      ]
     },
     "metadata": {},
     "output_type": "display_data"
    },
    {
     "data": {
      "text/plain": [
       "array([7.39670453e+06, 2.96388579e+07, 6.67266026e+07, 1.18659939e+08,\n",
       "       1.85438866e+08])"
      ]
     },
     "metadata": {},
     "output_type": "display_data"
    },
    {
     "name": "stdout",
     "output_type": "stream",
     "text": [
      "\n"
     ]
    },
    {
     "data": {
      "text/plain": [
       "'Estimated at for range of 100 - 500 mean selling price using Gamma model : '"
      ]
     },
     "metadata": {},
     "output_type": "display_data"
    },
    {
     "data": {
      "text/html": [
       "<div>\n",
       "<style scoped>\n",
       "    .dataframe tbody tr th:only-of-type {\n",
       "        vertical-align: middle;\n",
       "    }\n",
       "\n",
       "    .dataframe tbody tr th {\n",
       "        vertical-align: top;\n",
       "    }\n",
       "\n",
       "    .dataframe thead th {\n",
       "        text-align: right;\n",
       "    }\n",
       "</style>\n",
       "<table border=\"1\" class=\"dataframe\">\n",
       "  <thead>\n",
       "    <tr style=\"text-align: right;\">\n",
       "      <th></th>\n",
       "      <th>mean</th>\n",
       "      <th>mean_se</th>\n",
       "      <th>mean_ci_lower</th>\n",
       "      <th>mean_ci_upper</th>\n",
       "    </tr>\n",
       "  </thead>\n",
       "  <tbody>\n",
       "    <tr>\n",
       "      <th>0</th>\n",
       "      <td>8221.160450</td>\n",
       "      <td>3593.704807</td>\n",
       "      <td>1177.628457</td>\n",
       "      <td>15264.692444</td>\n",
       "    </tr>\n",
       "    <tr>\n",
       "      <th>1</th>\n",
       "      <td>16275.848202</td>\n",
       "      <td>7190.827997</td>\n",
       "      <td>2182.084309</td>\n",
       "      <td>30369.612094</td>\n",
       "    </tr>\n",
       "    <tr>\n",
       "      <th>2</th>\n",
       "      <td>24330.535953</td>\n",
       "      <td>10787.956460</td>\n",
       "      <td>3186.529824</td>\n",
       "      <td>45474.542082</td>\n",
       "    </tr>\n",
       "    <tr>\n",
       "      <th>3</th>\n",
       "      <td>32385.223704</td>\n",
       "      <td>14385.086241</td>\n",
       "      <td>4190.972757</td>\n",
       "      <td>60579.474651</td>\n",
       "    </tr>\n",
       "    <tr>\n",
       "      <th>4</th>\n",
       "      <td>40439.911455</td>\n",
       "      <td>17982.216549</td>\n",
       "      <td>5195.414657</td>\n",
       "      <td>75684.408253</td>\n",
       "    </tr>\n",
       "  </tbody>\n",
       "</table>\n",
       "</div>"
      ],
      "text/plain": [
       "           mean       mean_se  mean_ci_lower  mean_ci_upper\n",
       "0   8221.160450   3593.704807    1177.628457   15264.692444\n",
       "1  16275.848202   7190.827997    2182.084309   30369.612094\n",
       "2  24330.535953  10787.956460    3186.529824   45474.542082\n",
       "3  32385.223704  14385.086241    4190.972757   60579.474651\n",
       "4  40439.911455  17982.216549    5195.414657   75684.408253"
      ]
     },
     "metadata": {},
     "output_type": "display_data"
    },
    {
     "data": {
      "text/plain": [
       "'variance of the prediction means: '"
      ]
     },
     "metadata": {},
     "output_type": "display_data"
    },
    {
     "data": {
      "text/plain": [
       "array([1.29147142e+07, 5.17080073e+07, 1.16380005e+08, 2.06930706e+08,\n",
       "       3.23360112e+08])"
      ]
     },
     "metadata": {},
     "output_type": "display_data"
    }
   ],
   "source": [
    "# Generate the range from 100 to 500 (inclusive) in steps of 100\n",
    "mean_selling_prices = np.arange(100, 501, 100)  \n",
    "\n",
    "# Creating mean values and a new data frame with all the means matching with varying selling prices\n",
    "mean_df = pd.DataFrame({'new': np.mean(df['new']), 'taxes': np.mean(df['taxes'])}, index=[0])\n",
    "mean_df_new = pd.DataFrame(np.repeat(mean_df.values, 5, axis=0))\n",
    "mean_df_new.columns = mean_df.columns\n",
    "mean_df_new['price'] = mean_selling_prices\n",
    "\n",
    "# Creating preditions using previous gaus and gamma models. \n",
    "pred_gaus = res_gaus.get_prediction(mean_df_new)\n",
    "display(\"Estimated at for range of 100 - 500 mean selling price using Gaussian model : \", pred_gaus.summary_frame())\n",
    "display(\"variance of the prediction means: \", pred_gaus.var_pred_mean)\n",
    "print()\n",
    "pred_gamma = res_gamma.get_prediction(mean_df_new)\n",
    "display(\"Estimated at for range of 100 - 500 mean selling price using Gamma model : \", pred_gamma.summary_frame())\n",
    "display(\"variance of the prediction means: \", pred_gamma.var_pred_mean)"
   ]
  },
  {
   "cell_type": "markdown",
   "metadata": {},
   "source": [
    "(d) Which model is preferred according to AIC?"
   ]
  },
  {
   "cell_type": "markdown",
   "metadata": {},
   "source": [
    "For modeling house selling prices, AIC = 1160 for the normal GLM and AIC = 1104 for the gamma GLM. These indicate a clear preference for the gamma GLM.  \n",
    "The smaller AIC is the preferred criteria for AIC determination. "
   ]
  },
  {
   "cell_type": "code",
   "execution_count": 30,
   "metadata": {},
   "outputs": [
    {
     "data": {
      "text/plain": [
       "1160.1775330616279"
      ]
     },
     "metadata": {},
     "output_type": "display_data"
    },
    {
     "data": {
      "text/plain": [
       "1104.7236601725817"
      ]
     },
     "metadata": {},
     "output_type": "display_data"
    }
   ],
   "source": [
    "display(res_gaus.aic)\n",
    "display(res_gamma.aic)"
   ]
  },
  {
   "cell_type": "markdown",
   "metadata": {},
   "source": [
    "## Problem 7.5."
   ]
  },
  {
   "cell_type": "markdown",
   "metadata": {},
   "source": [
    "A study of sheep mentioned in Exercise 1.27 analyzed whether the sheep survived for a year from the original observation time (1 = yes, 0 = no) as a function of their weight (*kg*) at the original observation."
   ]
  },
  {
   "cell_type": "markdown",
   "metadata": {},
   "source": [
    "(a) Does the survival of the sheep seem to depend on their weight? If so, how does the weight of a sheep affect its probability of survival? Answer by fitting a generalized linear model for the survival probability."
   ]
  },
  {
   "cell_type": "markdown",
   "metadata": {},
   "source": [
    " A positive weight coefficient suggests that as the weight of a sheep increases, the log-odds of survival also increase."
   ]
  },
  {
   "cell_type": "code",
   "execution_count": 42,
   "metadata": {},
   "outputs": [
    {
     "name": "stdout",
     "output_type": "stream",
     "text": [
      "                 Generalized Linear Model Regression Results                  \n",
      "==============================================================================\n",
      "Dep. Variable:               survival   No. Observations:                 1359\n",
      "Model:                            GLM   Df Residuals:                     1357\n",
      "Model Family:                Binomial   Df Model:                            1\n",
      "Link Function:                  Logit   Scale:                          1.0000\n",
      "Method:                          IRLS   Log-Likelihood:                -645.22\n",
      "Date:                Mon, 19 Jun 2023   Deviance:                       1290.4\n",
      "Time:                        12:47:41   Pearson chi2:                 1.44e+03\n",
      "No. Iterations:                     5   Pseudo R-squ. (CS):             0.1294\n",
      "Covariance Type:            nonrobust                                         \n",
      "==============================================================================\n",
      "                 coef    std err          z      P>|z|      [0.025      0.975]\n",
      "------------------------------------------------------------------------------\n",
      "const         -2.0298      0.251     -8.103      0.000      -2.521      -1.539\n",
      "weight         0.1755      0.014     12.588      0.000       0.148       0.203\n",
      "==============================================================================\n",
      "Confidence interval: \n",
      "                0         1\n",
      "const  -2.520842 -1.538827\n",
      "weight  0.148135  0.202770\n"
     ]
    }
   ],
   "source": [
    "# read data\n",
    "data_url = 'http://stat4ds.rwth-aachen.de/data/Sheep.dat'\n",
    "data = pd.read_csv(data_url, delim_whitespace=True)\n",
    "df = pd.DataFrame(data)\n",
    "y = df['survival']\n",
    "x = df['weight']\n",
    "X = sm.add_constant(x)\n",
    "\n",
    "# Fit the logistic regression model\n",
    "glm_bi = sm.GLM(y, X, family=sm.families.Binomial())\n",
    "res_bi = glm_bi.fit()\n",
    "print(res_bi.summary())\n",
    "print(\"Confidence interval: \\n\", res_bi.conf_int())"
   ]
  },
  {
   "cell_type": "markdown",
   "metadata": {},
   "source": [
    "(b)  For what weight values do the sheep have more than a 50% chance of survival?"
   ]
  },
  {
   "cell_type": "markdown",
   "metadata": {},
   "source": [
    "For that sheep that have a weight between  11.6 - 34.2kg, they have more than a 50% survival rate. \n"
   ]
  },
  {
   "cell_type": "code",
   "execution_count": 56,
   "metadata": {},
   "outputs": [
    {
     "name": "stdout",
     "output_type": "stream",
     "text": [
      "Weight values with more than a 50% chance of survival:\n",
      "   const  weight\n",
      "0    1.0    20.8\n",
      "1    1.0    23.0\n",
      "2    1.0    28.0\n",
      "3    1.0    27.5\n",
      "4    1.0    26.0\n",
      "For sheep that have a weight between these values have more than a 50% survival rate \n",
      " 11.6 34.2\n"
     ]
    }
   ],
   "source": [
    "# Predict the probability of survival for the weight values\n",
    "predicted_probs = res_bi.predict(X)\n",
    "# Filter the weight values where the predicted probability is greater than 0.5\n",
    "weight_values_above_50 = X[predicted_probs > 0.5]\n",
    "\n",
    "# Print the weight values with more than a 50% chance of survival\n",
    "print(\"Weight values with more than a 50% chance of survival:\")\n",
    "print(weight_values_above_50.head()) \n",
    "print(\"For sheep that have a weight between these values have more than a 50% survival rate \\n\",\n",
    "      min(weight_values_above_50['weight']), max(weight_values_above_50['weight']))"
   ]
  },
  {
   "cell_type": "markdown",
   "metadata": {},
   "source": [
    "## Problem 7.9."
   ]
  },
  {
   "cell_type": "markdown",
   "metadata": {},
   "source": [
    "The `SoreThroat` data file at the book’s website contains data from from a study$^{23}$ about *Y* = whether a patient having surgery had a sore throat on waking (1 = yes, 0 = no) as a function of *D* = duration of the surgery (in minutes) and *T* = type of device used to secure the airway (1 = tracheal tube, 0 = laryngeal mask airway)."
   ]
  },
  {
   "cell_type": "markdown",
   "metadata": {},
   "source": [
    "(a) Fit a GLM using both explanatory variables as main effects. Interpret effects."
   ]
  },
  {
   "cell_type": "markdown",
   "metadata": {},
   "source": [
    "Using the model constants the formula formed is logit(y) = -1.42 + 0.07D - 1.66T, you can use the exponential of the coefficient of T to determine the estimated odds that the tracheal was better than using a laryngeal mask airway, for a given duration of surgery. In this case, the tracheal device was 0.19 times more likely to cause a sore throat. The effect of the duration seems to be small. If anything the longer the duration of the surgery, the more likely the estimate of a sore throat could happen."
   ]
  },
  {
   "cell_type": "code",
   "execution_count": 77,
   "metadata": {},
   "outputs": [
    {
     "name": "stdout",
     "output_type": "stream",
     "text": [
      "                 Generalized Linear Model Regression Results                  \n",
      "==============================================================================\n",
      "Dep. Variable:                      Y   No. Observations:                   35\n",
      "Model:                            GLM   Df Residuals:                       32\n",
      "Model Family:                Binomial   Df Model:                            2\n",
      "Link Function:                  Logit   Scale:                          1.0000\n",
      "Method:                          IRLS   Log-Likelihood:                -15.069\n",
      "Date:                Mon, 19 Jun 2023   Deviance:                       30.138\n",
      "Time:                        13:40:23   Pearson chi2:                     37.0\n",
      "No. Iterations:                     6   Pseudo R-squ. (CS):             0.3677\n",
      "Covariance Type:            nonrobust                                         \n",
      "==============================================================================\n",
      "                 coef    std err          z      P>|z|      [0.025      0.975]\n",
      "------------------------------------------------------------------------------\n",
      "const         -1.4173      1.095     -1.295      0.195      -3.563       0.728\n",
      "D              0.0687      0.026      2.600      0.009       0.017       0.120\n",
      "T             -1.6589      0.923     -1.798      0.072      -3.468       0.150\n",
      "==============================================================================\n",
      "0.19013898010152055\n",
      "1.0725081812542165\n"
     ]
    }
   ],
   "source": [
    "# read data and making need DF's \n",
    "data_url = 'http://stat4ds.rwth-aachen.de/data/SoreThroat.dat'\n",
    "data = pd.read_csv(data_url, delim_whitespace=True)\n",
    "y = df['Y']\n",
    "x1 = df['D']\n",
    "x2 = df['T']\n",
    "X = df[['D','T']]\n",
    "X = sm.add_constant(X)\n",
    "\n",
    "# Fit the logistic regression model\n",
    "glm_bi = sm.GLM(y, X, family=sm.families.Binomial())\n",
    "res_bi = glm_bi.fit()\n",
    "print(res_bi.summary())\n",
    "print(np.exp(-1.66))\n",
    "print(np.exp(0.07))"
   ]
  },
  {
   "cell_type": "markdown",
   "metadata": {},
   "source": [
    "(b) Fit a GLM permitting interaction between the explanatory variables. Interpret the effect of *D* at each category of *T*."
   ]
  },
  {
   "cell_type": "markdown",
   "metadata": {},
   "source": [
    "When T = 0, the equation turns to -> logit(y) = 0.05 + 0.03D   \n",
    "When T = 1, the equation turns to -> logit(y) = - 4.42 + 0.075D   \n",
    "From these two questions the effect of D is not very significant on whether a patient woke up with a sore throat. "
   ]
  },
  {
   "cell_type": "code",
   "execution_count": 76,
   "metadata": {},
   "outputs": [
    {
     "data": {
      "text/html": [
       "<div>\n",
       "<style scoped>\n",
       "    .dataframe tbody tr th:only-of-type {\n",
       "        vertical-align: middle;\n",
       "    }\n",
       "\n",
       "    .dataframe tbody tr th {\n",
       "        vertical-align: top;\n",
       "    }\n",
       "\n",
       "    .dataframe thead th {\n",
       "        text-align: right;\n",
       "    }\n",
       "</style>\n",
       "<table border=\"1\" class=\"dataframe\">\n",
       "  <thead>\n",
       "    <tr style=\"text-align: right;\">\n",
       "      <th></th>\n",
       "      <th>const</th>\n",
       "      <th>D</th>\n",
       "      <th>T</th>\n",
       "      <th>interaction</th>\n",
       "    </tr>\n",
       "  </thead>\n",
       "  <tbody>\n",
       "    <tr>\n",
       "      <th>0</th>\n",
       "      <td>1.0</td>\n",
       "      <td>45</td>\n",
       "      <td>0</td>\n",
       "      <td>0</td>\n",
       "    </tr>\n",
       "    <tr>\n",
       "      <th>1</th>\n",
       "      <td>1.0</td>\n",
       "      <td>15</td>\n",
       "      <td>0</td>\n",
       "      <td>0</td>\n",
       "    </tr>\n",
       "    <tr>\n",
       "      <th>2</th>\n",
       "      <td>1.0</td>\n",
       "      <td>40</td>\n",
       "      <td>0</td>\n",
       "      <td>0</td>\n",
       "    </tr>\n",
       "    <tr>\n",
       "      <th>3</th>\n",
       "      <td>1.0</td>\n",
       "      <td>83</td>\n",
       "      <td>1</td>\n",
       "      <td>83</td>\n",
       "    </tr>\n",
       "    <tr>\n",
       "      <th>4</th>\n",
       "      <td>1.0</td>\n",
       "      <td>90</td>\n",
       "      <td>1</td>\n",
       "      <td>90</td>\n",
       "    </tr>\n",
       "  </tbody>\n",
       "</table>\n",
       "</div>"
      ],
      "text/plain": [
       "   const   D  T  interaction\n",
       "0    1.0  45  0            0\n",
       "1    1.0  15  0            0\n",
       "2    1.0  40  0            0\n",
       "3    1.0  83  1           83\n",
       "4    1.0  90  1           90"
      ]
     },
     "metadata": {},
     "output_type": "display_data"
    },
    {
     "name": "stdout",
     "output_type": "stream",
     "text": [
      "                 Generalized Linear Model Regression Results                  \n",
      "==============================================================================\n",
      "Dep. Variable:                      Y   No. Observations:                   35\n",
      "Model:                            GLM   Df Residuals:                       31\n",
      "Model Family:                Binomial   Df Model:                            3\n",
      "Link Function:                  Logit   Scale:                          1.0000\n",
      "Method:                          IRLS   Log-Likelihood:                -14.161\n",
      "Date:                Mon, 19 Jun 2023   Deviance:                       28.321\n",
      "Time:                        13:38:40   Pearson chi2:                     28.6\n",
      "No. Iterations:                     6   Pseudo R-squ. (CS):             0.3997\n",
      "Covariance Type:            nonrobust                                         \n",
      "===============================================================================\n",
      "                  coef    std err          z      P>|z|      [0.025      0.975]\n",
      "-------------------------------------------------------------------------------\n",
      "const           0.0498      1.469      0.034      0.973      -2.830       2.930\n",
      "D               0.0285      0.034      0.831      0.406      -0.039       0.096\n",
      "T              -4.4722      2.467     -1.813      0.070      -9.308       0.363\n",
      "interaction     0.0746      0.058      1.291      0.197      -0.039       0.188\n",
      "===============================================================================\n"
     ]
    }
   ],
   "source": [
    "# Creating \n",
    "interaction = df['D'] * df['T']\n",
    "X['interaction'] = interaction\n",
    "\n",
    "# Fit the logistic regression model with interaction\n",
    "glm_interaction = sm.GLM(y, X, family=sm.families.Binomial())\n",
    "res_interaction = glm_interaction.fit()\n",
    "\n",
    "# Print the model summary\n",
    "print(res_interaction.summary())"
   ]
  },
  {
   "cell_type": "markdown",
   "metadata": {},
   "source": [
    "&nbsp;\n",
    "&nbsp;\n",
    "&nbsp;\n",
    "&nbsp;\n",
    "&nbsp;\n",
    "&nbsp;\n",
    "&nbsp;\n",
    "&nbsp;\n",
    "\n",
    "\n",
    "----------------\n",
    "$^{23}$ Described in “Binary Data” by D. Collett, *Encyclopedia of Biostatistics*, 2nd ed. (Wiley, 2005), pp. 439–446.\n",
    "\n",
    "$^{29}$ Some lack of fit the last few days reflects the impact of increasing “social distancing.”"
   ]
  }
 ],
 "metadata": {
  "kernelspec": {
   "display_name": "Python 3 (ipykernel)",
   "language": "python",
   "name": "python3"
  },
  "language_info": {
   "codemirror_mode": {
    "name": "ipython",
    "version": 3
   },
   "file_extension": ".py",
   "mimetype": "text/x-python",
   "name": "python",
   "nbconvert_exporter": "python",
   "pygments_lexer": "ipython3",
   "version": "3.11.3"
  },
  "vscode": {
   "interpreter": {
    "hash": "b61bb2d7a674932f79ec86662a4165aa288473e6e47a51dc8e3ab9a9cd94608c"
   }
  }
 },
 "nbformat": 4,
 "nbformat_minor": 4
}
