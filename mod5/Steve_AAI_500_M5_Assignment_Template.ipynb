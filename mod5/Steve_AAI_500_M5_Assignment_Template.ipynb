{
 "cells": [
  {
   "cell_type": "markdown",
   "metadata": {},
   "source": [
    "# Assignment 5.1\n",
    "\n",
    "Name: Steve Amancha   \n",
    "Date: June 11th "
   ]
  },
  {
   "cell_type": "markdown",
   "metadata": {},
   "source": [
    "For this assignment, you will refer to the textbook to solve the practice exercises. **Use Python to answer any coding problems (not R, even if indicated in your textbook).** Use Jupyter Notebook, Google Colab, or a similar software program to complete your assignment. Submit the assignment as a PDF file. Always label your axes and provide titles for any graphs generated on this assignment. Round all quantitative answers to 2 decimal places."
   ]
  },
  {
   "cell_type": "markdown",
   "metadata": {},
   "source": [
    "## Problem 5.1."
   ]
  },
  {
   "cell_type": "markdown",
   "metadata": {},
   "source": [
    "Introducing notation for a parameter, state the following hypotheses in terms of the parameter\n",
    "values and indicate whether it is a null hypothesis or an alternative hypothesis."
   ]
  },
  {
   "cell_type": "markdown",
   "metadata": {},
   "source": [
    "(a) The proportion of all adults in the UK who favor legalized gambling equals 0.50.\n"
   ]
  },
  {
   "cell_type": "markdown",
   "metadata": {},
   "source": [
    "Null hypothesis - H0: p = 0.50\n"
   ]
  },
  {
   "cell_type": "markdown",
   "metadata": {},
   "source": [
    "(b) The correlation for Australian adults between smoking (number of cigarettes per day) and blood pressure is positive."
   ]
  },
  {
   "cell_type": "markdown",
   "metadata": {},
   "source": [
    "Alternative hypothesis - Ha: population correlation > 0 "
   ]
  },
  {
   "cell_type": "markdown",
   "metadata": {},
   "source": [
    "(c) The mean grade point average this year of all college graduates in the U.S. is the same for females and males."
   ]
  },
  {
   "cell_type": "markdown",
   "metadata": {},
   "source": [
    "Null hypothesis - H0: mean_male = mean_females"
   ]
  },
  {
   "cell_type": "markdown",
   "metadata": {},
   "source": [
    "## Problem 5.2."
   ]
  },
  {
   "cell_type": "markdown",
   "metadata": {},
   "source": [
    "When a government does not have enough money to pay for the services that it provides, it can raise taxes or it can reduce services. When the Florida Poll asked a random sample of 1200 Floridians which they preferred, 52 percent (624 of the 1200) chose *raise taxes* and 48 percent chose *reduce services*. Let $\\pi$ denote the population proportion of Floridians who would choose raising taxes. Analyze whether this is a minority of the population $(\\pi < 0.50)$ or a majority $(\\pi > 0.50)$ by testing $H_0: \\pi = 0.50$ against $H_a: \\pi \\ne 0.50$. Interpret the *P*-value. Is it appropriate to \"accept $H_0 $?\" Why or why not?"
   ]
  },
  {
   "cell_type": "markdown",
   "metadata": {},
   "source": [
    "Testing Null Hypthoesis: \n",
    "H0: pi = .5\n",
    "\n",
    "Testing Alternative Hypothesis\n",
    "Ha: pi ~= .5\n",
    "\n",
    "With a p value of 0, we have very strong evidence to conclude that the true population proportion of Floridians who would choose raising taxes is not 50%.\n",
    "\n",
    "No it's no approriate to accept H0 because instead we would reject the null hypothesis and conclude that the population proportion is different from 50%, which would agree with the alternative hypothesis. "
   ]
  },
  {
   "cell_type": "code",
   "execution_count": 1,
   "metadata": {
    "tags": []
   },
   "outputs": [],
   "source": [
    "import scipy.stats as stats\n",
    "import pandas as pd\n",
    "import numpy as np\n",
    "import seaborn as sns\n",
    "import matplotlib.pyplot as plt\n",
    "from statsmodels.stats.proportion import proportions_ztest"
   ]
  },
  {
   "cell_type": "code",
   "execution_count": 93,
   "metadata": {
    "tags": []
   },
   "outputs": [
    {
     "name": "stdout",
     "output_type": "stream",
     "text": [
      "z score 4.381780460041333\n",
      "P value 0.0000\n",
      "Two sided z-test: z = -221.0359, p value = 0.0000\n",
      "Reject the null hypothesis - suggest the alternative hypothesis is true\n"
     ]
    }
   ],
   "source": [
    "# defining givens\n",
    "floridians = 12000\n",
    "yes_up_taxes = 624\n",
    "up_taxes_prop = .52\n",
    "pi = 0.5\n",
    "significance = 0.05\n",
    "\n",
    "# calculating z and p using formulas\n",
    "z = (up_taxes_prop - pi) / np.sqrt((pi * (1 - pi)) / floridians)\n",
    "print(\"z score\", z)\n",
    "\n",
    "p_value = 2 * (1 - stats.norm.cdf(abs(z)))\n",
    "print(f\"P value {p_value:.4f}\")\n",
    "\n",
    "\n",
    "# Additional testing way \n",
    "test_stat, pval = proportions_ztest(count=yes_up_taxes, nobs=floridians, value=pi, alternative='two-sided')\n",
    "print('Two sided z-test: z = {:.4f}, p value = {:.4f}'.format(test_stat, pval))\n",
    "\n",
    "if pval > significance:\n",
    "   print (\"Fail to reject the null hypothesis - we have nothing else to say\")\n",
    "else:\n",
    "   print (\"Reject the null hypothesis - suggest the alternative hypothesis is true\")"
   ]
  },
  {
   "cell_type": "markdown",
   "metadata": {},
   "source": [
    "## Problem 5.6."
   ]
  },
  {
   "cell_type": "markdown",
   "metadata": {},
   "source": [
    "Before a Presidential election, polls are taken in two swing states. The Republican candidate\n",
    "was preferred by 59 of the 100 people sampled in state A and by 525 of 1000 sampled in state\n",
    "B. Treat these as independent binomial samples, where the parameter $\\pi$ is the population\n",
    "proportion voting Republican in the state.\n"
   ]
  },
  {
   "cell_type": "markdown",
   "metadata": {},
   "source": [
    "(a) If we can treat these polls as if the samples were random, use significance tests of $H_0$:\n",
    "$\\pi  = 0.50$ against $H_a:  \\pi > 0.50$ to determine which state has greater evidence supporting a\n",
    "Republican victory. Explain your reasoning.\n"
   ]
  },
  {
   "cell_type": "markdown",
   "metadata": {},
   "source": [
    "Assuming: \n",
    "Independent binomial samples \n",
    "\n",
    "Because there is a smaller p value in State A, that state has a greater chance for a republican victory. We can reject the null hypthesis and support the alternative hypothesis that the population proportion > .50."
   ]
  },
  {
   "cell_type": "code",
   "execution_count": 94,
   "metadata": {},
   "outputs": [
    {
     "name": "stdout",
     "output_type": "stream",
     "text": [
      "State A z-test: z = 1.83, p value = 0.03\n",
      "State B z-test: z = 1.58, p value = 0.06\n"
     ]
    }
   ],
   "source": [
    "# Givens and assumptions\n",
    "significance = 0.05\n",
    "pi = 0.5\n",
    "a_state_prop = 59 / 100\n",
    "b_state_prop = 525 / 1000\n",
    "\n",
    "# calculating z and p score \n",
    "z_score_a, p_value_a = proportions_ztest(59, 100, pi, alternative='larger')\n",
    "z_score_b, p_value_b = proportions_ztest(525, 1000, pi, alternative='larger')\n",
    "\n",
    "print('State A z-test: z = {:.2f}, p value = {:.2f}'.format(z_score_a, p_value_a))\n",
    "print('State B z-test: z = {:.2f}, p value = {:.2f}'.format(z_score_b, p_value_b))\n"
   ]
  },
  {
   "cell_type": "markdown",
   "metadata": {},
   "source": [
    "(b) Conduct a Bayesian analysis to answer the question in (a) by finding in each case the\n",
    "posterior $P(\\pi < 0.50)$, corresponding to the *P-* value in (a). Use beta(50, 50) priors, which\n",
    "have standard deviation 0.05 and reflect the pollster’s strong prior belief that $\\pi$ almost\n",
    "surely is between 0.35 and 0.65. Explain any differences between conclusions."
   ]
  },
  {
   "cell_type": "markdown",
   "metadata": {},
   "source": [
    "state A probability that pi < 0.5 0.37   \n",
    "state B probability that pi < 0.5 0.40   \n",
    "Pi does fall into the expected range. In this case that probability are not the same which means that state b is more likely to have more even results. "
   ]
  },
  {
   "cell_type": "code",
   "execution_count": 103,
   "metadata": {},
   "outputs": [
    {
     "name": "stdout",
     "output_type": "stream",
     "text": [
      "state A probability that pi < 0.5 0.37\n",
      "state B probability that pi < 0.5 0.40\n"
     ]
    }
   ],
   "source": [
    "# Givens\n",
    "beta = (50,50)\n",
    "std_dev = 0.05 \n",
    "pi = .5\n",
    "con_int = [0.35, 0.65]\n",
    "\n",
    "z_A = 1.83\n",
    "p_val_A = 0.03\n",
    "n_A = (z_A / np.sqrt((1 - 2*p_val_A))) ** 2  # approximate sample size using z score and p-value\n",
    "x_A = z_A * np.sqrt(n_A*pi*(1 - pi)) + n_A*pi  # approximate number of successes using z score and sample size\n",
    "\n",
    "# Posterior parameters\n",
    "a_post_A = 50 + x_A\n",
    "b_post_A = 50 + n_A - x_A\n",
    "\n",
    "# Probability that pi < 0.5 for state A\n",
    "P_A = stats.beta.cdf(0.5, a_post_A, b_post_A)\n",
    "print(\"state A probability that pi < 0.5 {:.2f}\".format(P_A))\n",
    "\n",
    "z_B = 1.58\n",
    "p_val_B = 0.06\n",
    "n_B = (z_B / np.sqrt((1 - 2*p_val_B))) ** 2\n",
    "x_B = z_B * np.sqrt(n_B*pi*(1 - pi)) + n_B*pi\n",
    "\n",
    "# Posterior parameters\n",
    "a_post_B = 50 + x_B\n",
    "b_post_B = 50 + n_B - x_B\n",
    "\n",
    "# Probability that pi < 0.5 for state B\n",
    "P_B = stats.beta.cdf(0.5, a_post_B, b_post_B)\n",
    "print(\"state B probability that pi < 0.5 {:.2f}\".format(P_B))"
   ]
  },
  {
   "cell_type": "markdown",
   "metadata": {},
   "source": [
    "## Problem 5.8."
   ]
  },
  {
   "cell_type": "markdown",
   "metadata": {},
   "source": [
    "For the `Students` data file at the text website, analyze political ideology."
   ]
  },
  {
   "cell_type": "markdown",
   "metadata": {},
   "source": [
    "(a) Test whether the population mean $\\mu$ differs from 4.0, the moderate response. Report the\n",
    "*P*-value, and interpret. Make a conclusion using $\\alpha$ - level = 0.05."
   ]
  },
  {
   "cell_type": "markdown",
   "metadata": {},
   "source": [
    "Yes the population mean (3.03) differs from the moderate 4.0   \n",
    "The P-value (0.00) is the two-tail probability, presuming H0 is true, that T would exceed -4.60 in absolute value.   \n",
    "Since p val < 0.05 I would reject the null hypothesis and conclude that the population mean is different from 4.0  \n",
    "Political Ideology: ideol = political ideology (1 = very liberal, 4 = moderate, 7 = very conservative)  "
   ]
  },
  {
   "cell_type": "code",
   "execution_count": 31,
   "metadata": {},
   "outputs": [
    {
     "name": "stdout",
     "output_type": "stream",
     "text": [
      "Se: 0.21\n",
      "Mean: 3.03\n",
      "Std Deviation: 1.64\n",
      "\n",
      "se value: 0.21\n",
      "t value: -4.60\n",
      "p value: 0.00\n"
     ]
    }
   ],
   "source": [
    "data_url = 'https://stat4ds.rwth-aachen.de/data/Students.dat'\n",
    "students_data = pd.read_csv(data_url, delim_whitespace=True)\n",
    "df = pd.DataFrame(students_data)\n",
    "mu = 4\n",
    "\n",
    "# calculating needed values\n",
    "data = df['ideol'].to_numpy()\n",
    "ideol_se = stats.sem(data)\n",
    "ideol_mean = df['ideol'].mean()\n",
    "ideol_std_dev = df['ideol'].std()\n",
    "ideol_size = len(df['ideol'])\n",
    "df = ideol_size - 1\n",
    "\n",
    "print(f\"Se: {ideol_se:.2f}\")\n",
    "print(f\"Mean: {ideol_mean:.2f}\")\n",
    "print(f\"Std Deviation: {ideol_std_dev:.2f}\")\n",
    "print()\n",
    "\n",
    "# Confirming standar error with formula, solving for t and p value\n",
    "se = round(ideol_std_dev / np.sqrt(ideol_size), 2) \n",
    "t = (ideol_mean - mu) / se\n",
    "p_val = stats.t.sf(np.abs(t), df) * 2 \n",
    "print(f\"se value: {se:.2f}\", )\n",
    "print(f\"t value: {t:.2f}\", )\n",
    "print(f\"p value: {p_val:.2f}\")"
   ]
  },
  {
   "cell_type": "markdown",
   "metadata": {},
   "source": [
    "(b) Construct the 95% confidence interval for $\\mu$. Explain how results relate to those of the\n",
    "test in (a).\n"
   ]
  },
  {
   "cell_type": "markdown",
   "metadata": {},
   "source": [
    "There is a 95% chance that the confidence interval of [2.62, 3.45] contains the true population mean ideology value "
   ]
  },
  {
   "cell_type": "code",
   "execution_count": 33,
   "metadata": {},
   "outputs": [
    {
     "name": "stdout",
     "output_type": "stream",
     "text": [
      "Confidence Interval: (2.619349519812402, 3.4473171468542643)\n"
     ]
    }
   ],
   "source": [
    "# finding confindence interval \n",
    "ci = stats.norm.interval(confidence=0.95, loc=ideol_mean, scale=ideol_se)\n",
    "print(f\"Confidence Interval: {ci}\")"
   ]
  },
  {
   "cell_type": "markdown",
   "metadata": {},
   "source": [
    "## Problem 5.10."
   ]
  },
  {
   "cell_type": "markdown",
   "metadata": {},
   "source": [
    "A study of sheep mentioned in Exercise 1.27 analyzed whether the sheep survived for a year\n",
    "from the original observation time (1 = yes, 0 = no) as a function of their weight (*kg*) at the\n",
    "original observation. Stating any assumptions including the conceptual population of interest,\n",
    "use a *t* test with the data in the Sheep data file at the text website to compare mean weights\n",
    "of the sheep that survived and did not survive. Interpret the *P*-value."
   ]
  },
  {
   "cell_type": "markdown",
   "metadata": {},
   "source": [
    "Assumptions:\n",
    "\n",
    "The conceptual population of interest are living pigs and their associated weight. \n",
    "\n",
    "\n",
    "The null hypothesis is that the two groups have the same population mean weight, and the alternative hypothesis is that the two groups have different population mean weights."
   ]
  },
  {
   "cell_type": "code",
   "execution_count": 48,
   "metadata": {},
   "outputs": [
    {
     "name": "stdout",
     "output_type": "stream",
     "text": [
      "Survived pigs mean weight 20.65\n",
      "Lost pigs mean weight 16.0\n",
      "t value = 14.50, p val = 0.00\n"
     ]
    }
   ],
   "source": [
    "data_url = 'https://stat4ds.rwth-aachen.de/data/Sheep.dat'\n",
    "sheep_data = pd.read_csv(data_url, delim_whitespace=True)\n",
    "df = pd.DataFrame(sheep_data)\n",
    "\n",
    "# Creating \n",
    "survived_df, lost_df = df[df['survival'] == 1], df[df['survival'] == 0]\n",
    "print(\"Survived pigs mean weight\", round(survived_df['weight'].mean(),2))\n",
    "print(\"Lost pigs mean weight\", round(lost_df['weight'].mean(), 2))\n",
    "\n",
    "t_stat, p_val = stats.ttest_ind(survived_df['weight'], lost_df['weight'])\n",
    "print(f\"t value = {t_stat:.2f}, p val = {p_val:.2f}\")"
   ]
  },
  {
   "cell_type": "markdown",
   "metadata": {},
   "source": [
    "## Problem 5.11."
   ]
  },
  {
   "cell_type": "markdown",
   "metadata": {},
   "source": [
    "Use descriptive statistics and significance tests to compare the population mean political ideology for each pair of groups in Table 5.2 using the `Polid` data file. Summarize results using\n",
    "*P*-values and using a non-technical explanation."
   ]
  },
  {
   "cell_type": "markdown",
   "metadata": {},
   "source": [
    "An almost zero P-value (less than 0.05) indicates that there is a significant difference in mean political ideology between the two groups being compared. For black against white/hispanics there was a significant difference in their mean ideology.  \n",
    "Not enough evidence to show different ideology between hispanic and whites. \n",
    "\n",
    "\n",
    "Hispanic v Black t stat / p value: t = 2.81, p value = 0.01   \n",
    "Hispanic v White t stat / p value: t = -0.99, p value = 0.32   \n",
    "Black v White t stat / p value: t = -4.34, p value = 0.00  "
   ]
  },
  {
   "cell_type": "code",
   "execution_count": 63,
   "metadata": {},
   "outputs": [
    {
     "name": "stdout",
     "output_type": "stream",
     "text": [
      "Hispanic v Black t stat / p value: t = 2.81, p value = 0.01\n",
      "Hispanic v White t stat / p value: t = -0.99, p value = 0.32\n",
      "Black v White t stat / p value: t = -4.34, p value = 0.00\n"
     ]
    }
   ],
   "source": [
    "# Read and create data frame\n",
    "data_url = 'https://stat4ds.rwth-aachen.de/data/Polid.dat'\n",
    "sheep_data = pd.read_csv(data_url, delim_whitespace=True)\n",
    "df = pd.DataFrame(sheep_data)\n",
    "\n",
    "# seperated by race dataframes\n",
    "his_df, blk_df, white_df = df[df['race'] == 'hispanic'], df[df['race'] == 'black'], df[df['race'] == 'white']\n",
    "\n",
    "# T-test for the means of two independent samples\n",
    "t_stat, p_val = stats.ttest_ind(his_df['ideology'], blk_df['ideology'])\n",
    "print('Hispanic v Black t stat / p value: t = {:.2f}, p value = {:.2f}'.format(t_stat, p_val))\n",
    "\n",
    "t_stat, p_val = stats.ttest_ind(his_df['ideology'], white_df['ideology'])\n",
    "print('Hispanic v White t stat / p value: t = {:.2f}, p value = {:.2f}'.format(t_stat, p_val))\n",
    "\n",
    "t_stat, p_val = stats.ttest_ind(blk_df['ideology'], white_df['ideology'])\n",
    "print('Black v White t stat / p value: t = {:.2f}, p value = {:.2f}'.format(t_stat, p_val))"
   ]
  },
  {
   "cell_type": "markdown",
   "metadata": {},
   "source": [
    "## Problem 5.14 (a)."
   ]
  },
  {
   "cell_type": "markdown",
   "metadata": {},
   "source": [
    "The `Income` data file at the book’s website shows annual incomes in thousands of dollars for\n",
    "subjects in three racial-ethnic groups in the U.S."
   ]
  },
  {
   "cell_type": "markdown",
   "metadata": {},
   "source": [
    "(a) Stating all assumptions including the relative importance of each, show all steps of a significance test for comparing population mean incomes of Blacks and Hispanics. Interpret.\n"
   ]
  },
  {
   "cell_type": "markdown",
   "metadata": {},
   "source": [
    "Assumptions: \n",
    "Random normal population dist. each group - to ensure there was no bias in the population\n",
    "Equal variances - The variances of income in the two groups are equal\n",
    "Two populations are large enough and of equal length. \n",
    "Two groups are independent\n",
    "\n",
    "Hypothesis:\n",
    "HO : mean1 = mean2  \n",
    "HA : mean1 ~= mean2  \n",
    "\n",
    "Hispanic Mean: 31.00   \n",
    "Black Mean: 27.75  \n",
    "\n",
    "Hispanic v Black mean income: t stat / p value: t = 0.68, p value = 0.50  \n",
    "\n",
    "With such a high p value, we fail to reject the null hypothesis. There's no significant evidence to suggest a difference in mean income between Hispanics and Blacks. \n",
    "\n"
   ]
  },
  {
   "cell_type": "code",
   "execution_count": 78,
   "metadata": {},
   "outputs": [
    {
     "name": "stdout",
     "output_type": "stream",
     "text": [
      "Hispanic Mean: 31.00\n",
      "Black Mean: 27.75\n",
      "Hispanic v Black t stat / p value: t = 0.68, p value = 0.50\n",
      "We fail to reject the null hypothesis. There's no significant evidence to suggest a difference in mean income between Hispanics and Blacks.\n"
     ]
    }
   ],
   "source": [
    "data_url = 'https://stat4ds.rwth-aachen.de/data/Income.dat'\n",
    "data = pd.read_csv(data_url, delim_whitespace=True)\n",
    "df = pd.DataFrame(data)\n",
    "# display(df)\n",
    "\n",
    "# seperating into data frames by race\n",
    "his_df, blk_df = df[df['race']== 'H'], df[df['race']== 'B']\n",
    "\n",
    "# finding and printing mean\n",
    "h_income_mean = his_df['income'].mean()\n",
    "b_income_mean = blk_df['income'].mean()\n",
    "print(f\"Hispanic mean income: {h_income_mean:.2f}\")\n",
    "print(f\"Black mean income: {b_income_mean:.2f}\")\n",
    "\n",
    "# Performing T-test for the means of two independent samples\n",
    "t_stat, p_val = stats.ttest_ind(his_df['income'], blk_df['income'])\n",
    "print('Hispanic v Black t stat / p value: t = {:.2f}, p value = {:.2f}'.format(t_stat, p_val))\n",
    "\n",
    "\n",
    "if p_val < 0.05:\n",
    "    print(\"We reject the null hypothesis. Evidence suggests there is a significant difference in mean income between Hispanics and Blacks.\")\n",
    "else:\n",
    "    print(\"We fail to reject the null hypothesis. There's no significant evidence to suggest a difference in mean income between Hispanics and Blacks.\")"
   ]
  },
  {
   "cell_type": "markdown",
   "metadata": {},
   "source": [
    "## Problem 5.15."
   ]
  },
  {
   "cell_type": "markdown",
   "metadata": {},
   "source": [
    "A recent report $\\text{}^{39}$ estimated mean adult heights in the U.S. of 175.4 *cm* (69.1 inches) for men\n",
    "and 161.7 *cm* (63.7 inches) for women, with standard deviation about 7 *cm* for each group. For\n",
    "all finishers in the Boston Marathon since 1972, the time to finish has a mean of 221 minutes\n",
    "for men and 248 minutes for women, each with a standard deviation of about 40 minutes.\n",
    "According to the effect size, is the difference between men and women greater for height or for\n",
    "marathon times? Explain."
   ]
  },
  {
   "cell_type": "markdown",
   "metadata": {},
   "source": [
    "The effect size between men and women fo HEIGHT was greater than for marathon times. The effect size for height was about 2, anything over 1 is considered a large effect size. In comparison marathon times were only 0.68. "
   ]
  },
  {
   "cell_type": "code",
   "execution_count": 104,
   "metadata": {},
   "outputs": [
    {
     "name": "stdout",
     "output_type": "stream",
     "text": [
      "Height 1.96\n",
      "Marathon times 0.68\n"
     ]
    }
   ],
   "source": [
    "# givens \n",
    "m_height = 175.4\n",
    "f_height = 161.7\n",
    "std = 7\n",
    "\n",
    "m_finish_mean_mins = 221\n",
    "w_finish_mean_mins = 248\n",
    "finish_std_dev = 40\n",
    "\n",
    "# calculating effect size using formula\n",
    "effect_size = (m_height - f_height) / std\n",
    "print(f\"Height {effect_size:.2f}\")\n",
    "\n",
    "effect_size = (w_finish_mean_mins - m_finish_mean_mins) / finish_std_dev\n",
    "print(f\"Marathon times {effect_size:.2f}\")"
   ]
  },
  {
   "cell_type": "markdown",
   "metadata": {},
   "source": [
    "## Problem 5.17."
   ]
  },
  {
   "cell_type": "markdown",
   "metadata": {},
   "source": [
    "Ideally, results of a statistical analysis should not depend greatly on a single observation. In a\n",
    "sensitivity study, we re-do the analysis after deleting an outlier from the data set or changing its\n",
    "value to a more typical value and checking whether results change much. For the anorexia data\n",
    "analysis in Section 5.3.2, the weight change of 20.9 pounds for the cb group was a severe outlier.\n",
    "Suppose this observation was actually 2.9 pounds but recorded incorrectly. Find the *P*-value\n",
    "for testing $H_0: \\mu1 = \\mu2$ against $H_a: \\mu1 \\ne \\mu2$ with and without that observation. Summarize its\n",
    "influence."
   ]
  },
  {
   "cell_type": "markdown",
   "metadata": {},
   "source": [
    "With and without the corrected weight change, the difference produced for the p value = 0.73\n",
    "\n",
    "We fail to reject the null hypothesis. There's no significant evidence to suggest a difference in mean weight. The change of one value can alter the p value significantly, especially in a small sample size. "
   ]
  },
  {
   "cell_type": "code",
   "execution_count": 105,
   "metadata": {},
   "outputs": [
    {
     "name": "stdout",
     "output_type": "stream",
     "text": [
      "t = 0.34, p value = 0.73\n"
     ]
    }
   ],
   "source": [
    "# Getting data\n",
    "data_url = 'https://stat4ds.rwth-aachen.de/data/Anorexia.dat'\n",
    "data = pd.read_csv(data_url, delim_whitespace=True)\n",
    "df = pd.DataFrame(data)\n",
    "\n",
    "# sorting into the groups\n",
    "cb_df , c_df = df[df['therapy'] == 'cb'], df[df['therapy'] == 'c']\n",
    "\n",
    "cb_group_corrected = cb_df.copy()\n",
    "cb_group_corrected['change'] = cb_group_corrected['after'] - cb_group_corrected['before']\n",
    "control_df = cb_group_corrected.copy()\n",
    "# doing replacement of value\n",
    "cb_group_corrected['change'].replace(to_replace=20.900000000000006, value=2.9, inplace=True)\n",
    "\n",
    "t_stat, p_val = stats.ttest_ind(control_df['change'], cb_group_corrected['change'])\n",
    "print('t = {:.2f}, p value = {:.2f}'.format(t_stat, p_val))"
   ]
  },
  {
   "cell_type": "markdown",
   "metadata": {},
   "source": [
    "## Problem 5.19."
   ]
  },
  {
   "cell_type": "markdown",
   "metadata": {},
   "source": [
    "In the 2018 General Social Survey, when asked whether they believed in life after death, 1017 of 1178 females said *yes*, and 703 of 945 males said *yes*. Test that the population proportions are equal for females and males. Report and interpret the *P*-value."
   ]
  },
  {
   "cell_type": "markdown",
   "metadata": {},
   "source": [
    "Hypothesis:   \n",
    "H0: mu1 = mu2  \n",
    "Ha: mu1 > mu2 or mu1 < mu2  \n",
    "\n",
    "With a P value of basically 0, we reject the null hypothesis and accept the alternative hypothesis. Evidence suggests there is a significant difference for the population proportions for males and females are not equal.\n"
   ]
  },
  {
   "cell_type": "code",
   "execution_count": 108,
   "metadata": {},
   "outputs": [
    {
     "name": "stdout",
     "output_type": "stream",
     "text": [
      "Two sided z-test: z = 6.97, p value = 0.00\n"
     ]
    }
   ],
   "source": [
    "# creating proportions\n",
    "success_cnts = np.array([1017, 703])\n",
    "total_cnts = np.array([1178, 945])\n",
    "\n",
    "test_stat, pval = proportions_ztest(count=success_cnts, nobs=total_cnts, alternative='two-sided')\n",
    "print('Two sided z-test: z = {:.2f}, p value = {:.2f}'.format(test_stat, pval))\n",
    "\n"
   ]
  },
  {
   "cell_type": "markdown",
   "metadata": {},
   "source": [
    "## Problem 5.23."
   ]
  },
  {
   "cell_type": "markdown",
   "metadata": {},
   "source": [
    "Use the `Happy` data file from the 2018 General Social Survey at the text website to form a\n",
    "contingency table that cross classifies happiness with gender. For $ H_0 $: independence between\n",
    "happiness and gender:"
   ]
  },
  {
   "cell_type": "markdown",
   "metadata": {},
   "source": [
    "(a) Conduct and interpret the chi-squared test."
   ]
  },
  {
   "cell_type": "markdown",
   "metadata": {},
   "source": [
    "The p-value is 0.63  \n",
    "There is no relationship between the variables and it is possible the two can be independent from each other."
   ]
  },
  {
   "cell_type": "code",
   "execution_count": 84,
   "metadata": {},
   "outputs": [
    {
     "name": "stdout",
     "output_type": "stream",
     "text": [
      "happiness    1    2    3\n",
      "gender                  \n",
      "female     353  642  153\n",
      "male       295  553  146\n",
      " \n",
      "The p-value is 0.63\n",
      "There is no relationship between the variables.\n"
     ]
    },
    {
     "data": {
      "text/plain": [
       "(0.6323793708278013,\n",
       " array([[347.29411765, 640.45751634, 160.24836601],\n",
       "        [300.70588235, 554.54248366, 138.75163399]]))"
      ]
     },
     "execution_count": 84,
     "metadata": {},
     "output_type": "execute_result"
    }
   ],
   "source": [
    "from scipy.stats import chi2_contingency\n",
    "\n",
    "\n",
    "data_url = 'https://stat4ds.rwth-aachen.de/data/Happy.dat'\n",
    "data = pd.read_csv(data_url, delim_whitespace=True)\n",
    "df = pd.DataFrame(data)\n",
    "\n",
    "gender_table = pd.crosstab(df['gender'], df['happiness'])\n",
    "print(gender_table)\n",
    "print(' ')\n",
    "\n",
    "\n",
    "# print('Chi-square statistic = {:.2f}'.format(chi2))\n",
    "# print('p-value = {:.4f}'.format(p_val))\n",
    "\n",
    "def chisquare_test(table):\n",
    "    stat, p_value, dof, expected = chi2_contingency(table, correction=False)\n",
    "    # Interpret p-value\n",
    "    alpha = 0.05\n",
    "\n",
    "    print(\"The p-value is {:.2f}\".format(p_value))\n",
    "    if p_value <= alpha:\n",
    "        print('There is a relationship between the variables.')\n",
    "    else:\n",
    "        print('There is no relationship between the variables.')\n",
    "    return p_value, expected\n",
    "\n",
    "chisquare_test(gender_table)\n"
   ]
  },
  {
   "cell_type": "markdown",
   "metadata": {},
   "source": [
    "(b) Show the estimated expected frequencies and standardized residuals, and form a mosaic\n",
    "plot. Explain how they are consistent with the result of the chi-squared test."
   ]
  },
  {
   "cell_type": "markdown",
   "metadata": {},
   "source": [
    "They are consisted with the chi-squared test because this p value (1) come to the same conclusion which is\n",
    "There is no relationship between the variables and it is possible the two can be independent from each other.\n",
    "\n",
    "Expected :   \n",
    " [[0.30213599 0.55778574 0.14007827]   \n",
    " [0.30213599 0.55778574 0.14007827]]   \n",
    "Residuals :   \n",
    " [[ 0.00974278  0.00193842 -0.01817674]  \n",
    " [-0.00974278 -0.00193842  0.01817674]]  "
   ]
  },
  {
   "cell_type": "code",
   "execution_count": 86,
   "metadata": {},
   "outputs": [
    {
     "name": "stdout",
     "output_type": "stream",
     "text": [
      "The p-value is 1.00\n",
      "There is no relationship between the variables.\n",
      "Expected : \n",
      " [[0.30213599 0.55778574 0.14007827]\n",
      " [0.30213599 0.55778574 0.14007827]]\n",
      "Residuals : \n",
      " [[ 0.00974278  0.00193842 -0.01817674]\n",
      " [-0.00974278 -0.00193842  0.01817674]]\n"
     ]
    }
   ],
   "source": [
    "import statsmodels.api as sm\n",
    "\n",
    "\n",
    "norm_gender_table = pd.crosstab(df['gender'], df['happiness'], normalize='index')\n",
    "pval , expected = chisquare_test(norm_gender_table)\n",
    "print(f\"Expected : \\n {expected}\")\n",
    "\n",
    "residuals = (norm_gender_table - expected) / np.sqrt(expected)\n",
    "print(f\"Residuals : \\n {residuals.values}\")\n",
    "\n",
    "# Ran out of time to figure out mosiac plot\n",
    "\n",
    "# # Prepared data for visualization\n",
    "# def percent_of_total(second_column):\n",
    "#     percent_of_total = afterlife.groupby(['postlife', second_column]).size().unstack()\n",
    "#     for i in range(len(percent_of_total)):\n",
    "#         percent_of_total.iloc[i,:] = percent_of_total.iloc[i,:]/sum(percent_of_total.iloc[i,:])\n",
    "#     return percent_of_total\n",
    "# # Visualize relationship between afterlife and religion/gender\n",
    "# fig, [[ax1, ax2], [ax3, ax4]] = plt.subplots(2, 2, figsize=(15, 12))\n",
    "# # Count for religion and afterlife\n",
    "# afterlife.groupby(['postlife', 'religion']).size().unstack().plot(ax=ax1, kind='bar', stacked=True, xlabel='Belief in Afterlife', \n",
    "#                                                                   ylabel='Frequency', title='Survey Responses - Belief in Afterlife by Religion (Count)')\n",
    "# # Percentage for religion and afterlife\n",
    "# religion = percent_of_total('religion')\n",
    "# religion.plot(ax=ax2, kind='bar', stacked=True, xlabel='Belief in Afterlife', \n",
    "#               ylabel='Percentage', title='Survey Responses - Belief in Afterlife by Religion (Percentage)')\n",
    "# # Count for gender and afterlife\n",
    "# afterlife.groupby(['postlife', 'gender']).size().unstack().plot(ax=ax3, kind='bar', stacked=True, xlabel='Belief in Afterlife', \n",
    "#                                                                 ylabel='Frequency', title='Survey Responses - Belief in Afterlife by Gender (Count)')\n",
    "# # Percentage for religion and afterlife\n",
    "# gender = percent_of_total('gender')\n",
    "# gender.plot(ax=ax4, kind='bar', stacked=True, xlabel='Belief in Afterlife', \n",
    "#             ylabel='Percentage', title='Survey Responses - Belief in Afterlife by Gender (Percentage)')\n",
    "# plt.show()\n"
   ]
  },
  {
   "cell_type": "markdown",
   "metadata": {},
   "source": [
    "## Problem 5.35."
   ]
  },
  {
   "cell_type": "markdown",
   "metadata": {},
   "source": [
    "Are many medical \"discoveries\" actually Type I errors? In medical research, suppose $^{43}$ that an actual population effect exists only 10\\% of the time and that when an effect truly exists, the chance of making a Type II error and failing to detect it (perhaps because of insufficient sample size) is 0.50. Given that a test is significant at the 0.05 level, use Bayes theorem to show that 47\\% of such studies are actually reporting Type I errors."
   ]
  },
  {
   "cell_type": "markdown",
   "metadata": {},
   "source": [
    "Given test sig at 0.05, 47% of studies actually reported type 1 errors"
   ]
  },
  {
   "cell_type": "code",
   "execution_count": 92,
   "metadata": {},
   "outputs": [
    {
     "name": "stdout",
     "output_type": "stream",
     "text": [
      "0.47\n"
     ]
    }
   ],
   "source": [
    "# Reporting problem givens \n",
    "P_E = 0.1  # Probability that a true effect exists\n",
    "P_TypeII_given_E = 0.5  # Probability of making a Type II error given that an effect exists\n",
    "P_TypeI_given_notE = 0.05  # Probability of making a Type I error given that there is no effect\n",
    "\n",
    "P_notE = 1 - P_E  # Probability that there is no effect\n",
    "P_sig_given_E = 1 - P_TypeII_given_E  # Probability that a test is significant given that there is an effect\n",
    "P_sig_given_notE = P_TypeI_given_notE  # Probability that a test is significant given that there is no effect\n",
    "\n",
    "# Total probability that a test is significant\n",
    "P_sig = P_E * P_sig_given_E + P_notE * P_sig_given_notE\n",
    "\n",
    "# Probability that a Type I error is made given that a test is significant\n",
    "P_TypeI_given_sig = P_notE * P_TypeI_given_notE / P_sig\n",
    "\n",
    "print('{:.2f}'.format(P_TypeI_given_sig))"
   ]
  },
  {
   "cell_type": "markdown",
   "metadata": {},
   "source": [
    "&nbsp;\n",
    "&nbsp;\n",
    "&nbsp;\n",
    "&nbsp;\n",
    "&nbsp;\n",
    "&nbsp;\n",
    "&nbsp;\n",
    "&nbsp;\n",
    "\n",
    "\n",
    "----------------\n",
    "$^{39}$ See www.cdc.gov/nchs/data/nhsr/nhsr122-508.pdf and https://doi.org/10.1371/journal.pone.  \n",
    "\n",
    "$^{43}$ These hypothetical percentages were used in an article about this issue by J. Sterne, G. Smith, and D. R. Cox, BMJ, **322**: 226-231 (2001)."
   ]
  }
 ],
 "metadata": {
  "kernelspec": {
   "display_name": "Python 3 (ipykernel)",
   "language": "python",
   "name": "python3"
  },
  "language_info": {
   "codemirror_mode": {
    "name": "ipython",
    "version": 3
   },
   "file_extension": ".py",
   "mimetype": "text/x-python",
   "name": "python",
   "nbconvert_exporter": "python",
   "pygments_lexer": "ipython3",
   "version": "3.11.3"
  },
  "vscode": {
   "interpreter": {
    "hash": "b61bb2d7a674932f79ec86662a4165aa288473e6e47a51dc8e3ab9a9cd94608c"
   }
  }
 },
 "nbformat": 4,
 "nbformat_minor": 4
}
